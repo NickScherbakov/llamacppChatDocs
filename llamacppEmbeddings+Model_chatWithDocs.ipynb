{
  "nbformat": 4,
  "nbformat_minor": 0,
  "metadata": {
    "colab": {
      "provenance": [],
      "collapsed_sections": [
        "21m8OFTJwEP-"
      ],
      "authorship_tag": "ABX9TyP5VnHH7CEbuD+7FRuq6W6v",
      "include_colab_link": true
    },
    "kernelspec": {
      "name": "python3",
      "display_name": "Python 3"
    },
    "language_info": {
      "name": "python"
    },
    "widgets": {
      "application/vnd.jupyter.widget-state+json": {
        "daf0f226487d447ab88b64b8cf8dd185": {
          "model_module": "@jupyter-widgets/output",
          "model_name": "OutputModel",
          "model_module_version": "1.0.0",
          "state": {
            "_dom_classes": [],
            "_model_module": "@jupyter-widgets/output",
            "_model_module_version": "1.0.0",
            "_model_name": "OutputModel",
            "_view_count": null,
            "_view_module": "@jupyter-widgets/output",
            "_view_module_version": "1.0.0",
            "_view_name": "OutputView",
            "layout": "IPY_MODEL_b02f5d0c391644d6a7534066f8cc1193",
            "msg_id": "",
            "outputs": [
              {
                "output_type": "display_data",
                "data": {
                  "text/plain": "\u001b[32m⡀⠀\u001b[0m Qwen-0.5b-Chat AI is working ✅✅✅ ...\n",
                  "text/html": "<pre style=\"white-space:pre;overflow-x:auto;line-height:normal;font-family:Menlo,'DejaVu Sans Mono',consolas,'Courier New',monospace\"><span style=\"color: #008000; text-decoration-color: #008000\">⡀⠀</span> Qwen-0.5b-Chat AI is working ✅✅✅ ...\n</pre>\n"
                },
                "metadata": {}
              }
            ]
          }
        },
        "b02f5d0c391644d6a7534066f8cc1193": {
          "model_module": "@jupyter-widgets/base",
          "model_name": "LayoutModel",
          "model_module_version": "1.2.0",
          "state": {
            "_model_module": "@jupyter-widgets/base",
            "_model_module_version": "1.2.0",
            "_model_name": "LayoutModel",
            "_view_count": null,
            "_view_module": "@jupyter-widgets/base",
            "_view_module_version": "1.2.0",
            "_view_name": "LayoutView",
            "align_content": null,
            "align_items": null,
            "align_self": null,
            "border": null,
            "bottom": null,
            "display": null,
            "flex": null,
            "flex_flow": null,
            "grid_area": null,
            "grid_auto_columns": null,
            "grid_auto_flow": null,
            "grid_auto_rows": null,
            "grid_column": null,
            "grid_gap": null,
            "grid_row": null,
            "grid_template_areas": null,
            "grid_template_columns": null,
            "grid_template_rows": null,
            "height": null,
            "justify_content": null,
            "justify_items": null,
            "left": null,
            "margin": null,
            "max_height": null,
            "max_width": null,
            "min_height": null,
            "min_width": null,
            "object_fit": null,
            "object_position": null,
            "order": null,
            "overflow": null,
            "overflow_x": null,
            "overflow_y": null,
            "padding": null,
            "right": null,
            "top": null,
            "visibility": null,
            "width": null
          }
        },
        "4aa3082ec7ec4df6a5c3313b81887cfa": {
          "model_module": "@jupyter-widgets/output",
          "model_name": "OutputModel",
          "model_module_version": "1.0.0",
          "state": {
            "_dom_classes": [],
            "_model_module": "@jupyter-widgets/output",
            "_model_module_version": "1.0.0",
            "_model_name": "OutputModel",
            "_view_count": null,
            "_view_module": "@jupyter-widgets/output",
            "_view_module_version": "1.0.0",
            "_view_name": "OutputView",
            "layout": "IPY_MODEL_6d6b2f1584db4acab1bd785342acfad8",
            "msg_id": "",
            "outputs": [
              {
                "output_type": "display_data",
                "data": {
                  "text/plain": "\u001b[32m⢋⠀\u001b[0m Qwen-0.5b-Chat AI is working ✅✅✅ ...\n",
                  "text/html": "<pre style=\"white-space:pre;overflow-x:auto;line-height:normal;font-family:Menlo,'DejaVu Sans Mono',consolas,'Courier New',monospace\"><span style=\"color: #008000; text-decoration-color: #008000\">⢋⠀</span> Qwen-0.5b-Chat AI is working ✅✅✅ ...\n</pre>\n"
                },
                "metadata": {}
              }
            ]
          }
        },
        "6d6b2f1584db4acab1bd785342acfad8": {
          "model_module": "@jupyter-widgets/base",
          "model_name": "LayoutModel",
          "model_module_version": "1.2.0",
          "state": {
            "_model_module": "@jupyter-widgets/base",
            "_model_module_version": "1.2.0",
            "_model_name": "LayoutModel",
            "_view_count": null,
            "_view_module": "@jupyter-widgets/base",
            "_view_module_version": "1.2.0",
            "_view_name": "LayoutView",
            "align_content": null,
            "align_items": null,
            "align_self": null,
            "border": null,
            "bottom": null,
            "display": null,
            "flex": null,
            "flex_flow": null,
            "grid_area": null,
            "grid_auto_columns": null,
            "grid_auto_flow": null,
            "grid_auto_rows": null,
            "grid_column": null,
            "grid_gap": null,
            "grid_row": null,
            "grid_template_areas": null,
            "grid_template_columns": null,
            "grid_template_rows": null,
            "height": null,
            "justify_content": null,
            "justify_items": null,
            "left": null,
            "margin": null,
            "max_height": null,
            "max_width": null,
            "min_height": null,
            "min_width": null,
            "object_fit": null,
            "object_position": null,
            "order": null,
            "overflow": null,
            "overflow_x": null,
            "overflow_y": null,
            "padding": null,
            "right": null,
            "top": null,
            "visibility": null,
            "width": null
          }
        },
        "f91344233fd3435ab1359dfeb2b5143a": {
          "model_module": "@jupyter-widgets/output",
          "model_name": "OutputModel",
          "model_module_version": "1.0.0",
          "state": {
            "_dom_classes": [],
            "_model_module": "@jupyter-widgets/output",
            "_model_module_version": "1.0.0",
            "_model_name": "OutputModel",
            "_view_count": null,
            "_view_module": "@jupyter-widgets/output",
            "_view_module_version": "1.0.0",
            "_view_name": "OutputView",
            "layout": "IPY_MODEL_669b6315922b402391e7c519c22307f2",
            "msg_id": "",
            "outputs": [
              {
                "output_type": "display_data",
                "data": {
                  "text/plain": "\u001b[32m⠀⡀\u001b[0m Qwen-0.5b-Chat AI is working ✅✅✅ ...\n",
                  "text/html": "<pre style=\"white-space:pre;overflow-x:auto;line-height:normal;font-family:Menlo,'DejaVu Sans Mono',consolas,'Courier New',monospace\"><span style=\"color: #008000; text-decoration-color: #008000\">⠀⡀</span> Qwen-0.5b-Chat AI is working ✅✅✅ ...\n</pre>\n"
                },
                "metadata": {}
              }
            ]
          }
        },
        "669b6315922b402391e7c519c22307f2": {
          "model_module": "@jupyter-widgets/base",
          "model_name": "LayoutModel",
          "model_module_version": "1.2.0",
          "state": {
            "_model_module": "@jupyter-widgets/base",
            "_model_module_version": "1.2.0",
            "_model_name": "LayoutModel",
            "_view_count": null,
            "_view_module": "@jupyter-widgets/base",
            "_view_module_version": "1.2.0",
            "_view_name": "LayoutView",
            "align_content": null,
            "align_items": null,
            "align_self": null,
            "border": null,
            "bottom": null,
            "display": null,
            "flex": null,
            "flex_flow": null,
            "grid_area": null,
            "grid_auto_columns": null,
            "grid_auto_flow": null,
            "grid_auto_rows": null,
            "grid_column": null,
            "grid_gap": null,
            "grid_row": null,
            "grid_template_areas": null,
            "grid_template_columns": null,
            "grid_template_rows": null,
            "height": null,
            "justify_content": null,
            "justify_items": null,
            "left": null,
            "margin": null,
            "max_height": null,
            "max_width": null,
            "min_height": null,
            "min_width": null,
            "object_fit": null,
            "object_position": null,
            "order": null,
            "overflow": null,
            "overflow_x": null,
            "overflow_y": null,
            "padding": null,
            "right": null,
            "top": null,
            "visibility": null,
            "width": null
          }
        }
      }
    }
  },
  "cells": [
    {
      "cell_type": "markdown",
      "metadata": {
        "id": "view-in-github",
        "colab_type": "text"
      },
      "source": [
        "<a href=\"https://colab.research.google.com/github/fabiomatricardi/llamacppChatDocs/blob/main/llamacppEmbeddings%2BModel_chatWithDocs.ipynb\" target=\"_parent\"><img src=\"https://colab.research.google.com/assets/colab-badge.svg\" alt=\"Open In Colab\"/></a>"
      ]
    },
    {
      "cell_type": "markdown",
      "source": [
        "<img src='https://i.ytimg.com/vi/3H8X8q_XIJU/maxresdefault.jpg' height=300>"
      ],
      "metadata": {
        "id": "gAD4TQB2qMlM"
      }
    },
    {
      "cell_type": "code",
      "execution_count": 1,
      "metadata": {
        "colab": {
          "base_uri": "https://localhost:8080/"
        },
        "id": "ckiOgraRmhLI",
        "outputId": "08418664-1e4e-47c2-a66a-232697bb428c"
      },
      "outputs": [
        {
          "output_type": "stream",
          "name": "stdout",
          "text": [
            "\u001b[2K     \u001b[90m━━━━━━━━━━━━━━━━━━━━━━━━━━━━━━━━━━━━━━━━\u001b[0m \u001b[32m1.1/1.1 MB\u001b[0m \u001b[31m4.9 MB/s\u001b[0m eta \u001b[36m0:00:00\u001b[0m\n",
            "\u001b[2K     \u001b[90m━━━━━━━━━━━━━━━━━━━━━━━━━━━━━━━━━━━━━━━━\u001b[0m \u001b[32m3.5/3.5 MB\u001b[0m \u001b[31m35.3 MB/s\u001b[0m eta \u001b[36m0:00:00\u001b[0m\n",
            "\u001b[2K     \u001b[90m━━━━━━━━━━━━━━━━━━━━━━━━━━━━━━━━━━━━━━━━\u001b[0m \u001b[32m974.0/974.0 kB\u001b[0m \u001b[31m51.9 MB/s\u001b[0m eta \u001b[36m0:00:00\u001b[0m\n",
            "\u001b[2K     \u001b[90m━━━━━━━━━━━━━━━━━━━━━━━━━━━━━━━━━━━━━━━━\u001b[0m \u001b[32m2.2/2.2 MB\u001b[0m \u001b[31m68.3 MB/s\u001b[0m eta \u001b[36m0:00:00\u001b[0m\n",
            "\u001b[2K     \u001b[90m━━━━━━━━━━━━━━━━━━━━━━━━━━━━━━━━━━━━━━━━\u001b[0m \u001b[32m50.2/50.2 MB\u001b[0m \u001b[31m14.1 MB/s\u001b[0m eta \u001b[36m0:00:00\u001b[0m\n",
            "\u001b[?25h  Installing build dependencies ... \u001b[?25l\u001b[?25hdone\n",
            "  Getting requirements to build wheel ... \u001b[?25l\u001b[?25hdone\n",
            "  Installing backend dependencies ... \u001b[?25l\u001b[?25hdone\n",
            "  Preparing metadata (pyproject.toml) ... \u001b[?25l\u001b[?25hdone\n",
            "\u001b[2K     \u001b[90m━━━━━━━━━━━━━━━━━━━━━━━━━━━━━━━━━━━━━━━━\u001b[0m \u001b[32m27.0/27.0 MB\u001b[0m \u001b[31m26.6 MB/s\u001b[0m eta \u001b[36m0:00:00\u001b[0m\n",
            "\u001b[2K     \u001b[90m━━━━━━━━━━━━━━━━━━━━━━━━━━━━━━━━━━━━━━━━\u001b[0m \u001b[32m15.8/15.8 MB\u001b[0m \u001b[31m55.4 MB/s\u001b[0m eta \u001b[36m0:00:00\u001b[0m\n",
            "\u001b[2K     \u001b[90m━━━━━━━━━━━━━━━━━━━━━━━━━━━━━━━━━━━━━━━━\u001b[0m \u001b[32m314.7/314.7 kB\u001b[0m \u001b[31m29.5 MB/s\u001b[0m eta \u001b[36m0:00:00\u001b[0m\n",
            "\u001b[2K     \u001b[90m━━━━━━━━━━━━━━━━━━━━━━━━━━━━━━━━━━━━━━━━\u001b[0m \u001b[32m124.9/124.9 kB\u001b[0m \u001b[31m12.3 MB/s\u001b[0m eta \u001b[36m0:00:00\u001b[0m\n",
            "\u001b[2K     \u001b[90m━━━━━━━━━━━━━━━━━━━━━━━━━━━━━━━━━━━━━━━━\u001b[0m \u001b[32m45.5/45.5 kB\u001b[0m \u001b[31m5.1 MB/s\u001b[0m eta \u001b[36m0:00:00\u001b[0m\n",
            "\u001b[2K     \u001b[90m━━━━━━━━━━━━━━━━━━━━━━━━━━━━━━━━━━━━━━━━\u001b[0m \u001b[32m49.2/49.2 kB\u001b[0m \u001b[31m5.6 MB/s\u001b[0m eta \u001b[36m0:00:00\u001b[0m\n",
            "\u001b[2K     \u001b[90m━━━━━━━━━━━━━━━━━━━━━━━━━━━━━━━━━━━━━━━━\u001b[0m \u001b[32m53.0/53.0 kB\u001b[0m \u001b[31m5.9 MB/s\u001b[0m eta \u001b[36m0:00:00\u001b[0m\n",
            "\u001b[2K     \u001b[90m━━━━━━━━━━━━━━━━━━━━━━━━━━━━━━━━━━━━━━━━\u001b[0m \u001b[32m142.7/142.7 kB\u001b[0m \u001b[31m14.7 MB/s\u001b[0m eta \u001b[36m0:00:00\u001b[0m\n",
            "\u001b[?25h  Building wheel for llama-cpp-python (pyproject.toml) ... \u001b[?25l\u001b[?25hdone\n"
          ]
        }
      ],
      "source": [
        "%pip install --upgrade --quiet rich tiktoken PyMuPDF langchain langchain-community llama-cpp-python faiss-cpu"
      ]
    },
    {
      "cell_type": "code",
      "source": [
        "!wget https://huggingface.co/leliuga/all-MiniLM-L6-v2-GGUF/resolve/main/all-MiniLM-L6-v2.F16.gguf\n",
        "!wget https://huggingface.co/Qwen/Qwen2-0.5B-Instruct-GGUF/resolve/main/qwen2-0_5b-instruct-q8_0.gguf\n",
        "!wget https://github.com/fabiomatricardi/How-I-Built-a-Chatbot-that-Crushed-ChatGPT/raw/main/What%20is%20Entrepreneurship%205%20Factors%20Affecting%20Ent.txt\n",
        "!wget https://huggingface.co/gaianet/Nomic-embed-text-v1.5-Embedding-GGUF/resolve/main/nomic-embed-text-v1.5.f16.gguf"
      ],
      "metadata": {
        "id": "KJqaHZUBfLyL",
        "colab": {
          "base_uri": "https://localhost:8080/"
        },
        "outputId": "3cc9f2d1-9945-4cc7-a6d5-42775945c8b5"
      },
      "execution_count": 2,
      "outputs": [
        {
          "output_type": "stream",
          "name": "stdout",
          "text": [
            "--2024-06-11 19:17:34--  https://huggingface.co/leliuga/all-MiniLM-L6-v2-GGUF/resolve/main/all-MiniLM-L6-v2.F16.gguf\n",
            "Resolving huggingface.co (huggingface.co)... 18.172.134.124, 18.172.134.88, 18.172.134.4, ...\n",
            "Connecting to huggingface.co (huggingface.co)|18.172.134.124|:443... connected.\n",
            "HTTP request sent, awaiting response... 302 Found\n",
            "Location: https://cdn-lfs-us-1.huggingface.co/repos/68/86/688665eb5b2019706f226f4e2a0cb26c8f210c781549d129dc7f26d630ac2863/797b70c4edf85907fe0a49eb85811256f65fa0f7bf52166b147fd16be2be4662?response-content-disposition=inline%3B+filename*%3DUTF-8%27%27all-MiniLM-L6-v2.F16.gguf%3B+filename%3D%22all-MiniLM-L6-v2.F16.gguf%22%3B&Expires=1718392654&Policy=eyJTdGF0ZW1lbnQiOlt7IkNvbmRpdGlvbiI6eyJEYXRlTGVzc1RoYW4iOnsiQVdTOkVwb2NoVGltZSI6MTcxODM5MjY1NH19LCJSZXNvdXJjZSI6Imh0dHBzOi8vY2RuLWxmcy11cy0xLmh1Z2dpbmdmYWNlLmNvL3JlcG9zLzY4Lzg2LzY4ODY2NWViNWIyMDE5NzA2ZjIyNmY0ZTJhMGNiMjZjOGYyMTBjNzgxNTQ5ZDEyOWRjN2YyNmQ2MzBhYzI4NjMvNzk3YjcwYzRlZGY4NTkwN2ZlMGE0OWViODU4MTEyNTZmNjVmYTBmN2JmNTIxNjZiMTQ3ZmQxNmJlMmJlNDY2Mj9yZXNwb25zZS1jb250ZW50LWRpc3Bvc2l0aW9uPSoifV19&Signature=RdI4Ji%7Eqx5MiJ1WTFXKDlFTGjXP5nblrtvMz9kYAlWnp7yE3mtXaBkNkOMhOWdTQdvz8SL7fAaJunpV3Z33%7EkuEo4a6z07PdYapxNMuZdeZeuvRUki9qKaaDKRQMC29vdTIUbkq0%7E8f-6e6jOYM1tQ0wjtoR%7ENU%7EBnqaBtViCVzXTtP6C-d23m8NmJ85Q2cOrGnTF7O1nwqHsLlq3f-XYB7vjHhYWXptEkAfUNfLV4AbLZm2yRt7YUCKHSLqLI8dDV7WEyIFOzDOiZOhy0a8EJbftKpQTFSoIz4EPuUOKPVCb9P4h6EGpKxxvxFJAcfQ8TzGuqCcNMEs%7EQCOiNeloA__&Key-Pair-Id=KCD77M1F0VK2B [following]\n",
            "--2024-06-11 19:17:34--  https://cdn-lfs-us-1.huggingface.co/repos/68/86/688665eb5b2019706f226f4e2a0cb26c8f210c781549d129dc7f26d630ac2863/797b70c4edf85907fe0a49eb85811256f65fa0f7bf52166b147fd16be2be4662?response-content-disposition=inline%3B+filename*%3DUTF-8%27%27all-MiniLM-L6-v2.F16.gguf%3B+filename%3D%22all-MiniLM-L6-v2.F16.gguf%22%3B&Expires=1718392654&Policy=eyJTdGF0ZW1lbnQiOlt7IkNvbmRpdGlvbiI6eyJEYXRlTGVzc1RoYW4iOnsiQVdTOkVwb2NoVGltZSI6MTcxODM5MjY1NH19LCJSZXNvdXJjZSI6Imh0dHBzOi8vY2RuLWxmcy11cy0xLmh1Z2dpbmdmYWNlLmNvL3JlcG9zLzY4Lzg2LzY4ODY2NWViNWIyMDE5NzA2ZjIyNmY0ZTJhMGNiMjZjOGYyMTBjNzgxNTQ5ZDEyOWRjN2YyNmQ2MzBhYzI4NjMvNzk3YjcwYzRlZGY4NTkwN2ZlMGE0OWViODU4MTEyNTZmNjVmYTBmN2JmNTIxNjZiMTQ3ZmQxNmJlMmJlNDY2Mj9yZXNwb25zZS1jb250ZW50LWRpc3Bvc2l0aW9uPSoifV19&Signature=RdI4Ji%7Eqx5MiJ1WTFXKDlFTGjXP5nblrtvMz9kYAlWnp7yE3mtXaBkNkOMhOWdTQdvz8SL7fAaJunpV3Z33%7EkuEo4a6z07PdYapxNMuZdeZeuvRUki9qKaaDKRQMC29vdTIUbkq0%7E8f-6e6jOYM1tQ0wjtoR%7ENU%7EBnqaBtViCVzXTtP6C-d23m8NmJ85Q2cOrGnTF7O1nwqHsLlq3f-XYB7vjHhYWXptEkAfUNfLV4AbLZm2yRt7YUCKHSLqLI8dDV7WEyIFOzDOiZOhy0a8EJbftKpQTFSoIz4EPuUOKPVCb9P4h6EGpKxxvxFJAcfQ8TzGuqCcNMEs%7EQCOiNeloA__&Key-Pair-Id=KCD77M1F0VK2B\n",
            "Resolving cdn-lfs-us-1.huggingface.co (cdn-lfs-us-1.huggingface.co)... 108.156.107.44, 108.156.107.80, 108.156.107.49, ...\n",
            "Connecting to cdn-lfs-us-1.huggingface.co (cdn-lfs-us-1.huggingface.co)|108.156.107.44|:443... connected.\n",
            "HTTP request sent, awaiting response... 200 OK\n",
            "Length: 45949216 (44M) [application/octet-stream]\n",
            "Saving to: ‘all-MiniLM-L6-v2.F16.gguf’\n",
            "\n",
            "all-MiniLM-L6-v2.F1 100%[===================>]  43.82M   129MB/s    in 0.3s    \n",
            "\n",
            "2024-06-11 19:17:35 (129 MB/s) - ‘all-MiniLM-L6-v2.F16.gguf’ saved [45949216/45949216]\n",
            "\n",
            "--2024-06-11 19:17:35--  https://huggingface.co/Qwen/Qwen2-0.5B-Instruct-GGUF/resolve/main/qwen2-0_5b-instruct-q8_0.gguf\n",
            "Resolving huggingface.co (huggingface.co)... 18.172.134.124, 18.172.134.88, 18.172.134.4, ...\n",
            "Connecting to huggingface.co (huggingface.co)|18.172.134.124|:443... connected.\n",
            "HTTP request sent, awaiting response... 302 Found\n",
            "Location: https://cdn-lfs-us-1.huggingface.co/repos/de/a7/dea7cb7dd91181a6289326a9659bea3ef76442ab6822ba741994f21ad9825f70/703ba70a4459d597ad855837362e6364ae10be4aefd0e01496df2022575550b2?response-content-disposition=inline%3B+filename*%3DUTF-8%27%27qwen2-0_5b-instruct-q8_0.gguf%3B+filename%3D%22qwen2-0_5b-instruct-q8_0.gguf%22%3B&Expires=1718392655&Policy=eyJTdGF0ZW1lbnQiOlt7IkNvbmRpdGlvbiI6eyJEYXRlTGVzc1RoYW4iOnsiQVdTOkVwb2NoVGltZSI6MTcxODM5MjY1NX19LCJSZXNvdXJjZSI6Imh0dHBzOi8vY2RuLWxmcy11cy0xLmh1Z2dpbmdmYWNlLmNvL3JlcG9zL2RlL2E3L2RlYTdjYjdkZDkxMTgxYTYyODkzMjZhOTY1OWJlYTNlZjc2NDQyYWI2ODIyYmE3NDE5OTRmMjFhZDk4MjVmNzAvNzAzYmE3MGE0NDU5ZDU5N2FkODU1ODM3MzYyZTYzNjRhZTEwYmU0YWVmZDBlMDE0OTZkZjIwMjI1NzU1NTBiMj9yZXNwb25zZS1jb250ZW50LWRpc3Bvc2l0aW9uPSoifV19&Signature=OoWnw%7Ee5mOS6AGVMXBVVHylCFtDy3MnLJ-W5BSypktcBF3IH%7E8KxeFkFO%7E24VgJncYDIKDEmbg0xvIHCQ7cJgxBIwKqj%7E1GcCTfS95964d0K52Bwqucm0bBBtM75drqQRARTctKjfTaA6a7jUknh72MabJWKpru9TMzCCjwx-1%7EoFrWkBKQqvTQHPRneCGmjiX8m2imvJX%7EVK-vd3puxuv-lmHkErbooi7zQQWMrKI7KycX2JkQZ1Zj%7EGU9NP-tKcdDKFkdAX2rSYf8WpAiRio8A7KfFssrft63y-IzuujIkinwcAUNnaQg%7EnP3U0Zvpv5QcTi253nDrQC%7EvlkKHcQ__&Key-Pair-Id=KCD77M1F0VK2B [following]\n",
            "--2024-06-11 19:17:35--  https://cdn-lfs-us-1.huggingface.co/repos/de/a7/dea7cb7dd91181a6289326a9659bea3ef76442ab6822ba741994f21ad9825f70/703ba70a4459d597ad855837362e6364ae10be4aefd0e01496df2022575550b2?response-content-disposition=inline%3B+filename*%3DUTF-8%27%27qwen2-0_5b-instruct-q8_0.gguf%3B+filename%3D%22qwen2-0_5b-instruct-q8_0.gguf%22%3B&Expires=1718392655&Policy=eyJTdGF0ZW1lbnQiOlt7IkNvbmRpdGlvbiI6eyJEYXRlTGVzc1RoYW4iOnsiQVdTOkVwb2NoVGltZSI6MTcxODM5MjY1NX19LCJSZXNvdXJjZSI6Imh0dHBzOi8vY2RuLWxmcy11cy0xLmh1Z2dpbmdmYWNlLmNvL3JlcG9zL2RlL2E3L2RlYTdjYjdkZDkxMTgxYTYyODkzMjZhOTY1OWJlYTNlZjc2NDQyYWI2ODIyYmE3NDE5OTRmMjFhZDk4MjVmNzAvNzAzYmE3MGE0NDU5ZDU5N2FkODU1ODM3MzYyZTYzNjRhZTEwYmU0YWVmZDBlMDE0OTZkZjIwMjI1NzU1NTBiMj9yZXNwb25zZS1jb250ZW50LWRpc3Bvc2l0aW9uPSoifV19&Signature=OoWnw%7Ee5mOS6AGVMXBVVHylCFtDy3MnLJ-W5BSypktcBF3IH%7E8KxeFkFO%7E24VgJncYDIKDEmbg0xvIHCQ7cJgxBIwKqj%7E1GcCTfS95964d0K52Bwqucm0bBBtM75drqQRARTctKjfTaA6a7jUknh72MabJWKpru9TMzCCjwx-1%7EoFrWkBKQqvTQHPRneCGmjiX8m2imvJX%7EVK-vd3puxuv-lmHkErbooi7zQQWMrKI7KycX2JkQZ1Zj%7EGU9NP-tKcdDKFkdAX2rSYf8WpAiRio8A7KfFssrft63y-IzuujIkinwcAUNnaQg%7EnP3U0Zvpv5QcTi253nDrQC%7EvlkKHcQ__&Key-Pair-Id=KCD77M1F0VK2B\n",
            "Resolving cdn-lfs-us-1.huggingface.co (cdn-lfs-us-1.huggingface.co)... 108.156.107.44, 108.156.107.80, 108.156.107.49, ...\n",
            "Connecting to cdn-lfs-us-1.huggingface.co (cdn-lfs-us-1.huggingface.co)|108.156.107.44|:443... connected.\n",
            "HTTP request sent, awaiting response... 200 OK\n",
            "Length: 675708384 (644M) [application/octet-stream]\n",
            "Saving to: ‘qwen2-0_5b-instruct-q8_0.gguf’\n",
            "\n",
            "qwen2-0_5b-instruct 100%[===================>] 644.41M   169MB/s    in 3.8s    \n",
            "\n",
            "2024-06-11 19:17:39 (168 MB/s) - ‘qwen2-0_5b-instruct-q8_0.gguf’ saved [675708384/675708384]\n",
            "\n",
            "--2024-06-11 19:17:39--  https://github.com/fabiomatricardi/How-I-Built-a-Chatbot-that-Crushed-ChatGPT/raw/main/What%20is%20Entrepreneurship%205%20Factors%20Affecting%20Ent.txt\n",
            "Resolving github.com (github.com)... 140.82.112.3\n",
            "Connecting to github.com (github.com)|140.82.112.3|:443... connected.\n",
            "HTTP request sent, awaiting response... 302 Found\n",
            "Location: https://raw.githubusercontent.com/fabiomatricardi/How-I-Built-a-Chatbot-that-Crushed-ChatGPT/main/What%20is%20Entrepreneurship%205%20Factors%20Affecting%20Ent.txt [following]\n",
            "--2024-06-11 19:17:39--  https://raw.githubusercontent.com/fabiomatricardi/How-I-Built-a-Chatbot-that-Crushed-ChatGPT/main/What%20is%20Entrepreneurship%205%20Factors%20Affecting%20Ent.txt\n",
            "Resolving raw.githubusercontent.com (raw.githubusercontent.com)... 185.199.110.133, 185.199.109.133, 185.199.108.133, ...\n",
            "Connecting to raw.githubusercontent.com (raw.githubusercontent.com)|185.199.110.133|:443... connected.\n",
            "HTTP request sent, awaiting response... 200 OK\n",
            "Length: 17389 (17K) [text/plain]\n",
            "Saving to: ‘What is Entrepreneurship 5 Factors Affecting Ent.txt’\n",
            "\n",
            "What is Entrepreneu 100%[===================>]  16.98K  --.-KB/s    in 0s      \n",
            "\n",
            "2024-06-11 19:17:39 (38.5 MB/s) - ‘What is Entrepreneurship 5 Factors Affecting Ent.txt’ saved [17389/17389]\n",
            "\n",
            "--2024-06-11 19:17:39--  https://huggingface.co/gaianet/Nomic-embed-text-v1.5-Embedding-GGUF/resolve/main/nomic-embed-text-v1.5.f16.gguf\n",
            "Resolving huggingface.co (huggingface.co)... 18.172.134.124, 18.172.134.88, 18.172.134.4, ...\n",
            "Connecting to huggingface.co (huggingface.co)|18.172.134.124|:443... connected.\n",
            "HTTP request sent, awaiting response... 302 Found\n",
            "Location: https://cdn-lfs-us-1.huggingface.co/repos/90/cb/90cba57d8aa1ec193c28f257b79bb0760ea9684dbc05fc877d58c3959c19fa04/f7af6f66802f4df86eda10fe9bbcfc75c39562bed48ef6ace719a251cf1c2fdb?response-content-disposition=inline%3B+filename*%3DUTF-8%27%27nomic-embed-text-v1.5.f16.gguf%3B+filename%3D%22nomic-embed-text-v1.5.f16.gguf%22%3B&Expires=1718392659&Policy=eyJTdGF0ZW1lbnQiOlt7IkNvbmRpdGlvbiI6eyJEYXRlTGVzc1RoYW4iOnsiQVdTOkVwb2NoVGltZSI6MTcxODM5MjY1OX19LCJSZXNvdXJjZSI6Imh0dHBzOi8vY2RuLWxmcy11cy0xLmh1Z2dpbmdmYWNlLmNvL3JlcG9zLzkwL2NiLzkwY2JhNTdkOGFhMWVjMTkzYzI4ZjI1N2I3OWJiMDc2MGVhOTY4NGRiYzA1ZmM4NzdkNThjMzk1OWMxOWZhMDQvZjdhZjZmNjY4MDJmNGRmODZlZGExMGZlOWJiY2ZjNzVjMzk1NjJiZWQ0OGVmNmFjZTcxOWEyNTFjZjFjMmZkYj9yZXNwb25zZS1jb250ZW50LWRpc3Bvc2l0aW9uPSoifV19&Signature=fvvQgwK5lz7rVGbSBMPBeqp6WUv7YpCp7cBHLivBPqXGaC8BU69oT2Yf%7EUc4q%7Ee6CDEl-X19hXrwCEnLFs0NE0-0xR-xBASUdWqtrsNBo7g8qgDzdL77XlqeISjruiNO3zhPBv9LstLU%7EkPODT96dwIk-XzakQWyaF1Q6nBfHiPzhZsnvlmFb7SuPI5vC4WePQKrm1yB%7EmLcxf-wYUGzlXtip6GtQJSLezOk%7Eav1lvfprHj36qDrFbb7DYNFI8hwwL6f3DuTUCXlQ6ewWC7wPFQHNmFrRm9JMoGbMyMEtAAOBWcG42E7-5g90YfJFPfe2SCo78biRwfgGmMvOzRGRA__&Key-Pair-Id=KCD77M1F0VK2B [following]\n",
            "--2024-06-11 19:17:39--  https://cdn-lfs-us-1.huggingface.co/repos/90/cb/90cba57d8aa1ec193c28f257b79bb0760ea9684dbc05fc877d58c3959c19fa04/f7af6f66802f4df86eda10fe9bbcfc75c39562bed48ef6ace719a251cf1c2fdb?response-content-disposition=inline%3B+filename*%3DUTF-8%27%27nomic-embed-text-v1.5.f16.gguf%3B+filename%3D%22nomic-embed-text-v1.5.f16.gguf%22%3B&Expires=1718392659&Policy=eyJTdGF0ZW1lbnQiOlt7IkNvbmRpdGlvbiI6eyJEYXRlTGVzc1RoYW4iOnsiQVdTOkVwb2NoVGltZSI6MTcxODM5MjY1OX19LCJSZXNvdXJjZSI6Imh0dHBzOi8vY2RuLWxmcy11cy0xLmh1Z2dpbmdmYWNlLmNvL3JlcG9zLzkwL2NiLzkwY2JhNTdkOGFhMWVjMTkzYzI4ZjI1N2I3OWJiMDc2MGVhOTY4NGRiYzA1ZmM4NzdkNThjMzk1OWMxOWZhMDQvZjdhZjZmNjY4MDJmNGRmODZlZGExMGZlOWJiY2ZjNzVjMzk1NjJiZWQ0OGVmNmFjZTcxOWEyNTFjZjFjMmZkYj9yZXNwb25zZS1jb250ZW50LWRpc3Bvc2l0aW9uPSoifV19&Signature=fvvQgwK5lz7rVGbSBMPBeqp6WUv7YpCp7cBHLivBPqXGaC8BU69oT2Yf%7EUc4q%7Ee6CDEl-X19hXrwCEnLFs0NE0-0xR-xBASUdWqtrsNBo7g8qgDzdL77XlqeISjruiNO3zhPBv9LstLU%7EkPODT96dwIk-XzakQWyaF1Q6nBfHiPzhZsnvlmFb7SuPI5vC4WePQKrm1yB%7EmLcxf-wYUGzlXtip6GtQJSLezOk%7Eav1lvfprHj36qDrFbb7DYNFI8hwwL6f3DuTUCXlQ6ewWC7wPFQHNmFrRm9JMoGbMyMEtAAOBWcG42E7-5g90YfJFPfe2SCo78biRwfgGmMvOzRGRA__&Key-Pair-Id=KCD77M1F0VK2B\n",
            "Resolving cdn-lfs-us-1.huggingface.co (cdn-lfs-us-1.huggingface.co)... 108.156.107.44, 108.156.107.80, 108.156.107.49, ...\n",
            "Connecting to cdn-lfs-us-1.huggingface.co (cdn-lfs-us-1.huggingface.co)|108.156.107.44|:443... connected.\n",
            "HTTP request sent, awaiting response... 200 OK\n",
            "Length: 274290560 (262M) [binary/octet-stream]\n",
            "Saving to: ‘nomic-embed-text-v1.5.f16.gguf’\n",
            "\n",
            "nomic-embed-text-v1 100%[===================>] 261.58M   143MB/s    in 1.8s    \n",
            "\n",
            "2024-06-11 19:17:41 (143 MB/s) - ‘nomic-embed-text-v1.5.f16.gguf’ saved [274290560/274290560]\n",
            "\n"
          ]
        }
      ]
    },
    {
      "cell_type": "markdown",
      "source": [
        "directly from https://python.langchain.com/v0.2/docs/how_to/vectorstore_retriever/"
      ],
      "metadata": {
        "id": "fyrzggo6uTbi"
      }
    },
    {
      "cell_type": "code",
      "source": [
        "from rich.markdown import Markdown\n",
        "import warnings\n",
        "warnings.filterwarnings(action='ignore')\n",
        "import datetime\n",
        "from rich.console import Console\n",
        "console = Console(width=90)\n",
        "import tiktoken\n",
        "from time import sleep\n",
        "encoding = tiktoken.get_encoding(\"r50k_base\") #context_count = len(encoding.encode(yourtext))\n",
        "\n",
        "from langchain.text_splitter import TokenTextSplitter\n",
        "from langchain_community.document_loaders import TextLoader\n",
        "from langchain_community.vectorstores import FAISS\n",
        "from langchain_community.embeddings import LlamaCppEmbeddings\n",
        "from llama_cpp import Llama\n",
        "from langchain_text_splitters import CharacterTextSplitter"
      ],
      "metadata": {
        "id": "51Km9wcTuuPq"
      },
      "execution_count": 3,
      "outputs": []
    },
    {
      "cell_type": "code",
      "source": [
        "embpath = \"/content/all-MiniLM-L6-v2.F16.gguf\"\n",
        "embeddings = LlamaCppEmbeddings(model_path=embpath)"
      ],
      "metadata": {
        "id": "hsrDphBNuTLy",
        "colab": {
          "base_uri": "https://localhost:8080/"
        },
        "outputId": "c1c6619c-fc90-4398-a948-abfd011ba239"
      },
      "execution_count": 4,
      "outputs": [
        {
          "output_type": "stream",
          "name": "stderr",
          "text": [
            "llama_model_loader: loaded meta data with 23 key-value pairs and 101 tensors from /content/all-MiniLM-L6-v2.F16.gguf (version GGUF V3 (latest))\n",
            "llama_model_loader: Dumping metadata keys/values. Note: KV overrides do not apply in this output.\n",
            "llama_model_loader: - kv   0:                       general.architecture str              = bert\n",
            "llama_model_loader: - kv   1:                               general.name str              = all-MiniLM-L6-v2\n",
            "llama_model_loader: - kv   2:                           bert.block_count u32              = 6\n",
            "llama_model_loader: - kv   3:                        bert.context_length u32              = 512\n",
            "llama_model_loader: - kv   4:                      bert.embedding_length u32              = 384\n",
            "llama_model_loader: - kv   5:                   bert.feed_forward_length u32              = 1536\n",
            "llama_model_loader: - kv   6:                  bert.attention.head_count u32              = 12\n",
            "llama_model_loader: - kv   7:          bert.attention.layer_norm_epsilon f32              = 0.000000\n",
            "llama_model_loader: - kv   8:                          general.file_type u32              = 1\n",
            "llama_model_loader: - kv   9:                      bert.attention.causal bool             = false\n",
            "llama_model_loader: - kv  10:                          bert.pooling_type u32              = 1\n",
            "llama_model_loader: - kv  11:            tokenizer.ggml.token_type_count u32              = 2\n",
            "llama_model_loader: - kv  12:                tokenizer.ggml.bos_token_id u32              = 101\n",
            "llama_model_loader: - kv  13:                tokenizer.ggml.eos_token_id u32              = 102\n",
            "llama_model_loader: - kv  14:                       tokenizer.ggml.model str              = bert\n",
            "llama_model_loader: - kv  15:                      tokenizer.ggml.tokens arr[str,30522]   = [\"[PAD]\", \"[unused0]\", \"[unused1]\", \"...\n",
            "llama_model_loader: - kv  16:                      tokenizer.ggml.scores arr[f32,30522]   = [-1000.000000, -1000.000000, -1000.00...\n",
            "llama_model_loader: - kv  17:                  tokenizer.ggml.token_type arr[i32,30522]   = [3, 1, 1, 1, 1, 1, 1, 1, 1, 1, 1, 1, ...\n",
            "llama_model_loader: - kv  18:            tokenizer.ggml.unknown_token_id u32              = 100\n",
            "llama_model_loader: - kv  19:          tokenizer.ggml.seperator_token_id u32              = 102\n",
            "llama_model_loader: - kv  20:            tokenizer.ggml.padding_token_id u32              = 0\n",
            "llama_model_loader: - kv  21:                tokenizer.ggml.cls_token_id u32              = 101\n",
            "llama_model_loader: - kv  22:               tokenizer.ggml.mask_token_id u32              = 103\n",
            "llama_model_loader: - type  f32:   63 tensors\n",
            "llama_model_loader: - type  f16:   38 tensors\n",
            "llm_load_vocab: special tokens cache size = 5\n",
            "llm_load_vocab: token to piece cache size = 0.2032 MB\n",
            "llm_load_print_meta: format           = GGUF V3 (latest)\n",
            "llm_load_print_meta: arch             = bert\n",
            "llm_load_print_meta: vocab type       = WPM\n",
            "llm_load_print_meta: n_vocab          = 30522\n",
            "llm_load_print_meta: n_merges         = 0\n",
            "llm_load_print_meta: n_ctx_train      = 512\n",
            "llm_load_print_meta: n_embd           = 384\n",
            "llm_load_print_meta: n_head           = 12\n",
            "llm_load_print_meta: n_head_kv        = 12\n",
            "llm_load_print_meta: n_layer          = 6\n",
            "llm_load_print_meta: n_rot            = 32\n",
            "llm_load_print_meta: n_embd_head_k    = 32\n",
            "llm_load_print_meta: n_embd_head_v    = 32\n",
            "llm_load_print_meta: n_gqa            = 1\n",
            "llm_load_print_meta: n_embd_k_gqa     = 384\n",
            "llm_load_print_meta: n_embd_v_gqa     = 384\n",
            "llm_load_print_meta: f_norm_eps       = 1.0e-12\n",
            "llm_load_print_meta: f_norm_rms_eps   = 0.0e+00\n",
            "llm_load_print_meta: f_clamp_kqv      = 0.0e+00\n",
            "llm_load_print_meta: f_max_alibi_bias = 0.0e+00\n",
            "llm_load_print_meta: f_logit_scale    = 0.0e+00\n",
            "llm_load_print_meta: n_ff             = 1536\n",
            "llm_load_print_meta: n_expert         = 0\n",
            "llm_load_print_meta: n_expert_used    = 0\n",
            "llm_load_print_meta: causal attn      = 0\n",
            "llm_load_print_meta: pooling type     = 1\n",
            "llm_load_print_meta: rope type        = 2\n",
            "llm_load_print_meta: rope scaling     = linear\n",
            "llm_load_print_meta: freq_base_train  = 10000.0\n",
            "llm_load_print_meta: freq_scale_train = 1\n",
            "llm_load_print_meta: n_ctx_orig_yarn  = 512\n",
            "llm_load_print_meta: rope_finetuned   = unknown\n",
            "llm_load_print_meta: ssm_d_conv       = 0\n",
            "llm_load_print_meta: ssm_d_inner      = 0\n",
            "llm_load_print_meta: ssm_d_state      = 0\n",
            "llm_load_print_meta: ssm_dt_rank      = 0\n",
            "llm_load_print_meta: model type       = 22M\n",
            "llm_load_print_meta: model ftype      = F16\n",
            "llm_load_print_meta: model params     = 22.57 M\n",
            "llm_load_print_meta: model size       = 43.10 MiB (16.02 BPW) \n",
            "llm_load_print_meta: general.name     = all-MiniLM-L6-v2\n",
            "llm_load_print_meta: BOS token        = 101 '[CLS]'\n",
            "llm_load_print_meta: EOS token        = 102 '[SEP]'\n",
            "llm_load_print_meta: UNK token        = 100 '[UNK]'\n",
            "llm_load_print_meta: SEP token        = 102 '[SEP]'\n",
            "llm_load_print_meta: PAD token        = 0 '[PAD]'\n",
            "llm_load_print_meta: CLS token        = 101 '[CLS]'\n",
            "llm_load_print_meta: MASK token       = 103 '[MASK]'\n",
            "llm_load_print_meta: LF token         = 0 '[PAD]'\n",
            "llm_load_tensors: ggml ctx size =    0.05 MiB\n",
            "llm_load_tensors:        CPU buffer size =    43.10 MiB\n",
            "...............................\n",
            "llama_new_context_with_model: n_ctx      = 512\n",
            "llama_new_context_with_model: n_batch    = 512\n",
            "llama_new_context_with_model: n_ubatch   = 512\n",
            "llama_new_context_with_model: flash_attn = 0\n",
            "llama_new_context_with_model: freq_base  = 10000.0\n",
            "llama_new_context_with_model: freq_scale = 1\n",
            "llama_kv_cache_init:        CPU KV buffer size =     4.50 MiB\n",
            "llama_new_context_with_model: KV self size  =    4.50 MiB, K (f16):    2.25 MiB, V (f16):    2.25 MiB\n",
            "llama_new_context_with_model:        CPU  output buffer size =     0.00 MiB\n",
            "llama_new_context_with_model:        CPU compute buffer size =    17.00 MiB\n",
            "llama_new_context_with_model: graph nodes  = 221\n",
            "llama_new_context_with_model: graph splits = 1\n",
            "AVX = 1 | AVX_VNNI = 0 | AVX2 = 1 | AVX512 = 0 | AVX512_VBMI = 0 | AVX512_VNNI = 0 | AVX512_BF16 = 0 | FMA = 1 | NEON = 0 | SVE = 0 | ARM_FMA = 0 | F16C = 1 | FP16_VA = 0 | WASM_SIMD = 0 | BLAS = 0 | SSE3 = 1 | SSSE3 = 1 | VSX = 0 | MATMUL_INT8 = 0 | LLAMAFILE = 1 | \n",
            "Model metadata: {'tokenizer.ggml.mask_token_id': '103', 'tokenizer.ggml.padding_token_id': '0', 'tokenizer.ggml.seperator_token_id': '102', 'tokenizer.ggml.unknown_token_id': '100', 'tokenizer.ggml.model': 'bert', 'tokenizer.ggml.eos_token_id': '102', 'general.architecture': 'bert', 'bert.block_count': '6', 'bert.attention.layer_norm_epsilon': '0.000000', 'bert.context_length': '512', 'bert.feed_forward_length': '1536', 'bert.embedding_length': '384', 'tokenizer.ggml.cls_token_id': '101', 'tokenizer.ggml.token_type_count': '2', 'bert.attention.head_count': '12', 'tokenizer.ggml.bos_token_id': '101', 'general.file_type': '1', 'general.name': 'all-MiniLM-L6-v2', 'bert.attention.causal': 'false', 'bert.pooling_type': '1'}\n",
            "Using fallback chat format: llama-2\n"
          ]
        }
      ]
    },
    {
      "cell_type": "code",
      "source": [
        "from llama_cpp import Llama\n",
        "qwen05b = Llama(\n",
        "            model_path='/content/qwen2-0_5b-instruct-q8_0.gguf',\n",
        "            n_gpu_layers=0,\n",
        "            temperature=0.1,\n",
        "            top_p = 0.5,\n",
        "            n_ctx=8192,\n",
        "            max_tokens=600,\n",
        "            repeat_penalty=1.7,\n",
        "            stop=[\"<|im_end|>\",\"Instruction:\",\"### Instruction:\",\"###<user>\",\"</user>\"],\n",
        "            verbose=False,\n",
        "            )"
      ],
      "metadata": {
        "id": "lFy5uzM6uJtv"
      },
      "execution_count": 5,
      "outputs": []
    },
    {
      "cell_type": "code",
      "source": [
        "# load a TXT document\n",
        "loader = TextLoader(\"/content/What is Entrepreneurship 5 Factors Affecting Ent.txt\")\n",
        "#Create a document and split into chuncks\n",
        "documents = loader.load()\n",
        "text_splitter = TokenTextSplitter(chunk_size=250, chunk_overlap=50)\n",
        "texts = text_splitter.split_documents(documents)\n",
        "#create the vector store\n",
        "vectorstore = FAISS.from_documents(texts, embeddings)"
      ],
      "metadata": {
        "id": "-flV9kpLuTOX"
      },
      "execution_count": 7,
      "outputs": []
    },
    {
      "cell_type": "code",
      "source": [
        "console.print(documents) #this will print the entire document object, without chunks"
      ],
      "metadata": {
        "id": "9_sAJKV67e5G"
      },
      "execution_count": null,
      "outputs": []
    },
    {
      "cell_type": "code",
      "source": [
        "#default is similarity search\n",
        "retriever = vectorstore.as_retriever(search_type=\"mmr\",search_kwargs={\"k\": 3})"
      ],
      "metadata": {
        "id": "SlMiTsEDuTJc"
      },
      "execution_count": 13,
      "outputs": []
    },
    {
      "cell_type": "code",
      "source": [
        "docs = retriever.invoke(\"what to do to get started with entrepreneurship?\")"
      ],
      "metadata": {
        "id": "8YDN6_Q3uTHX"
      },
      "execution_count": 14,
      "outputs": []
    },
    {
      "cell_type": "code",
      "source": [
        "console.print(docs)"
      ],
      "metadata": {
        "colab": {
          "base_uri": "https://localhost:8080/",
          "height": 773
        },
        "id": "qeVFDBTouTE0",
        "outputId": "529dd95e-2e8b-4811-e88b-d7501c86e151"
      },
      "execution_count": 15,
      "outputs": [
        {
          "output_type": "display_data",
          "data": {
            "text/plain": [
              "\u001b[1m[\u001b[0m\n",
              "    \u001b[1;35mDocument\u001b[0m\u001b[1m(\u001b[0m\n",
              "        \u001b[33mpage_content\u001b[0m=\u001b[32m' success.\\nBy carefully considering these factors, entrepreneurs can\u001b[0m\n",
              "\u001b[32mincrease their chances of navigating the challenges and maximizing the opportunities \u001b[0m\n",
              "\u001b[32mwithin the dynamic world of entrepreneurship.\\nVI. Step-by-step guide to get started with \u001b[0m\n",
              "\u001b[32mentrepreneurship\\nStep-by-step guide to get started with entrepreneurship\\nThe world of \u001b[0m\n",
              "\u001b[32mentrepreneurship beckons with the promise of innovation, independence, and the chance to \u001b[0m\n",
              "\u001b[32mmake a real difference. If you’re brimming with an idea and ready to embark on this \u001b[0m\n",
              "\u001b[32mexciting path, here’s a roadmap to guide you through the initial stages:\\n1. Validate Your\u001b[0m\n",
              "\u001b[32mIdea\\nMarket Research: Don’t be afraid to get out there and talk to people! Conduct \u001b[0m\n",
              "\u001b[32mthorough market research to understand if there’s a'\u001b[0m,\n",
              "        \u001b[33mmetadata\u001b[0m=\u001b[1m{\u001b[0m\n",
              "            \u001b[32m'source'\u001b[0m: \u001b[32m'/content/What is Entrepreneurship 5 Factors Affecting Ent.txt'\u001b[0m\n",
              "        \u001b[1m}\u001b[0m\n",
              "    \u001b[1m)\u001b[0m,\n",
              "    \u001b[1;35mDocument\u001b[0m\u001b[1m(\u001b[0m\n",
              "        \u001b[33mpage_content\u001b[0m=\u001b[32m' Practices and Examples\\n3. Secure Funding\\nBootstrapping: Many \u001b[0m\n",
              "\u001b[32mentrepreneurs start by bootstrapping their businesses using personal savings, loans from \u001b[0m\n",
              "\u001b[32mfamily and friends, or crowdfunding platforms.\\nSeeking Investors: For ventures requiring \u001b[0m\n",
              "\u001b[32msignificant capital, exploring options like angel investors or venture capital firms might\u001b[0m\n",
              "\u001b[32mbe necessary. Be prepared to present a compelling pitch that highlights the potential of \u001b[0m\n",
              "\u001b[32myour business.\\n4. Build Your Team\\nAssemble Your A-Team: Surround yourself with talented \u001b[0m\n",
              "\u001b[32mand passionate individuals who complement your skillset. Delegate tasks effectively and \u001b[0m\n",
              "\u001b[32mfoster a collaborative environment where everyone feels valued and empowered to \u001b[0m\n",
              "\u001b[32mcontribute.\\n5. Choose a Business Structure\\nSole Proprietorship, Partnership, LLC, or \u001b[0m\n",
              "\u001b[32mCorporation? The legal structure you choose for your'\u001b[0m,\n",
              "        \u001b[33mmetadata\u001b[0m=\u001b[1m{\u001b[0m\n",
              "            \u001b[32m'source'\u001b[0m: \u001b[32m'/content/What is Entrepreneurship 5 Factors Affecting Ent.txt'\u001b[0m\n",
              "        \u001b[1m}\u001b[0m\n",
              "    \u001b[1m)\u001b[0m,\n",
              "    \u001b[1;35mDocument\u001b[0m\u001b[1m(\u001b[0m\n",
              "        \u001b[33mpage_content\u001b[0m=\u001b[32m' us. Here’s why entrepreneurship is so important:\\n1. Driving \u001b[0m\n",
              "\u001b[32mEconomic Growth: Entrepreneurs are the lifeblood of economic dynamism. By starting new \u001b[0m\n",
              "\u001b[32mbusinesses, they create jobs, stimulate competition, and introduce innovative products and\u001b[0m\n",
              "\u001b[32mservices. This fosters a healthy and growing economy for everyone.\\n2. Fostering \u001b[0m\n",
              "\u001b[32mInnovation: Entrepreneurs are constantly pushing boundaries and seeking solutions to \u001b[0m\n",
              "\u001b[32mproblems. Their drive to create something new leads to breakthroughs in technology, \u001b[0m\n",
              "\u001b[32mbusiness models, and social approaches. This continuous innovation keeps industries \u001b[0m\n",
              "\u001b[32mevolving and benefits society as a whole.\\n3. Job Creation: New businesses create new \u001b[0m\n",
              "\u001b[32mjobs. In fact, startups and small businesses are responsible for a significant portion of \u001b[0m\n",
              "\u001b[32mjob growth in many economies. Entrepreneurship provides opportunities'\u001b[0m,\n",
              "        \u001b[33mmetadata\u001b[0m=\u001b[1m{\u001b[0m\n",
              "            \u001b[32m'source'\u001b[0m: \u001b[32m'/content/What is Entrepreneurship 5 Factors Affecting Ent.txt'\u001b[0m\n",
              "        \u001b[1m}\u001b[0m\n",
              "    \u001b[1m)\u001b[0m\n",
              "\u001b[1m]\u001b[0m\n"
            ],
            "text/html": [
              "<pre style=\"white-space:pre;overflow-x:auto;line-height:normal;font-family:Menlo,'DejaVu Sans Mono',consolas,'Courier New',monospace\"><span style=\"font-weight: bold\">[</span>\n",
              "    <span style=\"color: #800080; text-decoration-color: #800080; font-weight: bold\">Document</span><span style=\"font-weight: bold\">(</span>\n",
              "        <span style=\"color: #808000; text-decoration-color: #808000\">page_content</span>=<span style=\"color: #008000; text-decoration-color: #008000\">' success.\\nBy carefully considering these factors, entrepreneurs can</span>\n",
              "<span style=\"color: #008000; text-decoration-color: #008000\">increase their chances of navigating the challenges and maximizing the opportunities </span>\n",
              "<span style=\"color: #008000; text-decoration-color: #008000\">within the dynamic world of entrepreneurship.\\nVI. Step-by-step guide to get started with </span>\n",
              "<span style=\"color: #008000; text-decoration-color: #008000\">entrepreneurship\\nStep-by-step guide to get started with entrepreneurship\\nThe world of </span>\n",
              "<span style=\"color: #008000; text-decoration-color: #008000\">entrepreneurship beckons with the promise of innovation, independence, and the chance to </span>\n",
              "<span style=\"color: #008000; text-decoration-color: #008000\">make a real difference. If you’re brimming with an idea and ready to embark on this </span>\n",
              "<span style=\"color: #008000; text-decoration-color: #008000\">exciting path, here’s a roadmap to guide you through the initial stages:\\n1. Validate Your</span>\n",
              "<span style=\"color: #008000; text-decoration-color: #008000\">Idea\\nMarket Research: Don’t be afraid to get out there and talk to people! Conduct </span>\n",
              "<span style=\"color: #008000; text-decoration-color: #008000\">thorough market research to understand if there’s a'</span>,\n",
              "        <span style=\"color: #808000; text-decoration-color: #808000\">metadata</span>=<span style=\"font-weight: bold\">{</span>\n",
              "            <span style=\"color: #008000; text-decoration-color: #008000\">'source'</span>: <span style=\"color: #008000; text-decoration-color: #008000\">'/content/What is Entrepreneurship 5 Factors Affecting Ent.txt'</span>\n",
              "        <span style=\"font-weight: bold\">}</span>\n",
              "    <span style=\"font-weight: bold\">)</span>,\n",
              "    <span style=\"color: #800080; text-decoration-color: #800080; font-weight: bold\">Document</span><span style=\"font-weight: bold\">(</span>\n",
              "        <span style=\"color: #808000; text-decoration-color: #808000\">page_content</span>=<span style=\"color: #008000; text-decoration-color: #008000\">' Practices and Examples\\n3. Secure Funding\\nBootstrapping: Many </span>\n",
              "<span style=\"color: #008000; text-decoration-color: #008000\">entrepreneurs start by bootstrapping their businesses using personal savings, loans from </span>\n",
              "<span style=\"color: #008000; text-decoration-color: #008000\">family and friends, or crowdfunding platforms.\\nSeeking Investors: For ventures requiring </span>\n",
              "<span style=\"color: #008000; text-decoration-color: #008000\">significant capital, exploring options like angel investors or venture capital firms might</span>\n",
              "<span style=\"color: #008000; text-decoration-color: #008000\">be necessary. Be prepared to present a compelling pitch that highlights the potential of </span>\n",
              "<span style=\"color: #008000; text-decoration-color: #008000\">your business.\\n4. Build Your Team\\nAssemble Your A-Team: Surround yourself with talented </span>\n",
              "<span style=\"color: #008000; text-decoration-color: #008000\">and passionate individuals who complement your skillset. Delegate tasks effectively and </span>\n",
              "<span style=\"color: #008000; text-decoration-color: #008000\">foster a collaborative environment where everyone feels valued and empowered to </span>\n",
              "<span style=\"color: #008000; text-decoration-color: #008000\">contribute.\\n5. Choose a Business Structure\\nSole Proprietorship, Partnership, LLC, or </span>\n",
              "<span style=\"color: #008000; text-decoration-color: #008000\">Corporation? The legal structure you choose for your'</span>,\n",
              "        <span style=\"color: #808000; text-decoration-color: #808000\">metadata</span>=<span style=\"font-weight: bold\">{</span>\n",
              "            <span style=\"color: #008000; text-decoration-color: #008000\">'source'</span>: <span style=\"color: #008000; text-decoration-color: #008000\">'/content/What is Entrepreneurship 5 Factors Affecting Ent.txt'</span>\n",
              "        <span style=\"font-weight: bold\">}</span>\n",
              "    <span style=\"font-weight: bold\">)</span>,\n",
              "    <span style=\"color: #800080; text-decoration-color: #800080; font-weight: bold\">Document</span><span style=\"font-weight: bold\">(</span>\n",
              "        <span style=\"color: #808000; text-decoration-color: #808000\">page_content</span>=<span style=\"color: #008000; text-decoration-color: #008000\">' us. Here’s why entrepreneurship is so important:\\n1. Driving </span>\n",
              "<span style=\"color: #008000; text-decoration-color: #008000\">Economic Growth: Entrepreneurs are the lifeblood of economic dynamism. By starting new </span>\n",
              "<span style=\"color: #008000; text-decoration-color: #008000\">businesses, they create jobs, stimulate competition, and introduce innovative products and</span>\n",
              "<span style=\"color: #008000; text-decoration-color: #008000\">services. This fosters a healthy and growing economy for everyone.\\n2. Fostering </span>\n",
              "<span style=\"color: #008000; text-decoration-color: #008000\">Innovation: Entrepreneurs are constantly pushing boundaries and seeking solutions to </span>\n",
              "<span style=\"color: #008000; text-decoration-color: #008000\">problems. Their drive to create something new leads to breakthroughs in technology, </span>\n",
              "<span style=\"color: #008000; text-decoration-color: #008000\">business models, and social approaches. This continuous innovation keeps industries </span>\n",
              "<span style=\"color: #008000; text-decoration-color: #008000\">evolving and benefits society as a whole.\\n3. Job Creation: New businesses create new </span>\n",
              "<span style=\"color: #008000; text-decoration-color: #008000\">jobs. In fact, startups and small businesses are responsible for a significant portion of </span>\n",
              "<span style=\"color: #008000; text-decoration-color: #008000\">job growth in many economies. Entrepreneurship provides opportunities'</span>,\n",
              "        <span style=\"color: #808000; text-decoration-color: #808000\">metadata</span>=<span style=\"font-weight: bold\">{</span>\n",
              "            <span style=\"color: #008000; text-decoration-color: #008000\">'source'</span>: <span style=\"color: #008000; text-decoration-color: #008000\">'/content/What is Entrepreneurship 5 Factors Affecting Ent.txt'</span>\n",
              "        <span style=\"font-weight: bold\">}</span>\n",
              "    <span style=\"font-weight: bold\">)</span>\n",
              "<span style=\"font-weight: bold\">]</span>\n",
              "</pre>\n"
            ]
          },
          "metadata": {}
        }
      ]
    },
    {
      "cell_type": "markdown",
      "source": [
        "#### RESULTS With scores\n",
        "\n",
        "https://python.langchain.com/v0.2/docs/how_to/add_scores_retriever/\n",
        "\n",
        "https://python.langchain.com/v0.1/docs/integrations/vectorstores/faiss/"
      ],
      "metadata": {
        "id": "21m8OFTJwEP-"
      }
    },
    {
      "cell_type": "code",
      "source": [
        "docs_and_scores = vectorstore.similarity_search_with_score(\"what is Apple news?\",k=3) #or .similarity_search_with_relevance_scores()"
      ],
      "metadata": {
        "colab": {
          "base_uri": "https://localhost:8080/"
        },
        "id": "YqEgg2JCuTCd",
        "outputId": "d4c47289-f669-4d4f-a5d1-79333a3f0ad6"
      },
      "execution_count": null,
      "outputs": [
        {
          "output_type": "stream",
          "name": "stderr",
          "text": [
            "\n",
            "llama_print_timings:        load time =     169.52 ms\n",
            "llama_print_timings:      sample time =       0.00 ms /     1 runs   (    0.00 ms per token,      inf tokens per second)\n",
            "llama_print_timings: prompt eval time =      15.07 ms /     7 tokens (    2.15 ms per token,   464.56 tokens per second)\n",
            "llama_print_timings:        eval time =       0.00 ms /     1 runs   (    0.00 ms per token,      inf tokens per second)\n",
            "llama_print_timings:       total time =      16.47 ms /     8 tokens\n"
          ]
        }
      ]
    },
    {
      "cell_type": "code",
      "source": [
        "console.print(docs_and_scores)"
      ],
      "metadata": {
        "colab": {
          "base_uri": "https://localhost:8080/",
          "height": 773
        },
        "id": "Tpf6D4g1uS_9",
        "outputId": "0ffb88b7-5659-434c-fa58-4cc5da168090"
      },
      "execution_count": null,
      "outputs": [
        {
          "output_type": "display_data",
          "data": {
            "text/plain": [
              "\u001b[1m[\u001b[0m\n",
              "    \u001b[1m(\u001b[0m\n",
              "        \u001b[1;35mDocument\u001b[0m\u001b[1m(\u001b[0m\n",
              "            \u001b[33mpage_content\u001b[0m=\u001b[32m'Apple\\'s iOS App Store announces sweeping changes in the \u001b[0m\n",
              "\u001b[32mEU\\nhttps://www.axios.com/2024/01/25/apple-app-store-eu-changes\\nAuthor: Ashley Gold, \u001b[0m\n",
              "\u001b[32mauthor of\\xa0Axios Pro\\n\\n\\nApple will allow alternative app stores and other new options \u001b[0m\n",
              "\u001b[32mfor app developers in order to comply with Europe\\'s Digital Markets Act, the company said\u001b[0m\n",
              "\u001b[32mThursday.\\n\\nDriving the news: Europe\\'s major tech competition law, set to go into effect\u001b[0m\n",
              "\u001b[32mMarch 7, requires Apple to loosen its strict rules requiring developers to rely on the App\u001b[0m\n",
              "\u001b[32mStore for distribution and payment processing.\\n\\nApple has long resisted any changes to \u001b[0m\n",
              "\u001b[32mits App Store rules, citing security and privacy. The company also argues its services for\u001b[0m\n",
              "\u001b[32mdevelopers are best-in-class and ensure smooth user experiences free of spam or harmful \u001b[0m\n",
              "\u001b[32mcontent.\\n\\nWhy it matters: Apple is being forced to make sweeping changes to one of its \u001b[0m\n",
              "\u001b[32mflagship \"walled garden\" systems in what some smaller companies are seeing as a major \u001b[0m\n",
              "\u001b[32mwin.'\u001b[0m,\n",
              "            \u001b[33mmetadata\u001b[0m=\u001b[1m{\u001b[0m\u001b[32m'source'\u001b[0m: \u001b[32m'/content/Article-edited.txt'\u001b[0m\u001b[1m}\u001b[0m\n",
              "        \u001b[1m)\u001b[0m,\n",
              "        \u001b[1;36m39.76284\u001b[0m\n",
              "    \u001b[1m)\u001b[0m,\n",
              "    \u001b[1m(\u001b[0m\n",
              "        \u001b[1;35mDocument\u001b[0m\u001b[1m(\u001b[0m\n",
              "            \u001b[33mpage_content\u001b[0m=\u001b[32m'Go deeper: The iOS changes will include notarization for iOS \u001b[0m\n",
              "\u001b[32mapps, authorization for marketplace developers and disclosures on alternative payments. \u001b[0m\n",
              "\u001b[32mApple says in the release that if apps opt out of Apple\\'s system, the company \"has less \u001b[0m\n",
              "\u001b[32mability to address other risks\" like \"scam, fraud, abuse\" or \"objectionable or harmful\" \u001b[0m\n",
              "\u001b[32mcontent.\\n\\nUsers in the EU will also see a browser choice screen in iOS 17.4 to pick a \u001b[0m\n",
              "\u001b[32mdefault browser.\\n\\nThe other side: Epic Games CEO Tim Sweeney said on X: \"Apple\\'s plan \u001b[0m\n",
              "\u001b[32mto thwart Europe\\'s new Digital Markets Act law is a devious new instance of Malicious \u001b[0m\n",
              "\u001b[32mCompliance... Epic has always supported the notion of Apple notarization and malware \u001b[0m\n",
              "\u001b[32mscanning for apps, but we strongly reject Apple\\'s twisting this process to undermine \u001b[0m\n",
              "\u001b[32mcompetition and continue imposing Apple taxes on transactions they\\'re not involved in.\"'\u001b[0m,\n",
              "            \u001b[33mmetadata\u001b[0m=\u001b[1m{\u001b[0m\u001b[32m'source'\u001b[0m: \u001b[32m'/content/Article-edited.txt'\u001b[0m\u001b[1m}\u001b[0m\n",
              "        \u001b[1m)\u001b[0m,\n",
              "        \u001b[1;36m40.713356\u001b[0m\n",
              "    \u001b[1m)\u001b[0m,\n",
              "    \u001b[1m(\u001b[0m\n",
              "        \u001b[1;35mDocument\u001b[0m\u001b[1m(\u001b[0m\n",
              "            \u001b[33mpage_content\u001b[0m=\u001b[32m\"What\u001b[0m\u001b[32m to watch: It's up to the European Commission to determine \u001b[0m\n",
              "\u001b[32mwhether Apple's plan fully complies with the DMA. iPhone app developers face a whole new \u001b[0m\n",
              "\u001b[32mworld of choices, and time will tell if the changes boost competition and improve \u001b[0m\n",
              "\u001b[32mexperiences for users.\"\u001b[0m,\n",
              "            \u001b[33mmetadata\u001b[0m=\u001b[1m{\u001b[0m\u001b[32m'source'\u001b[0m: \u001b[32m'/content/Article-edited.txt'\u001b[0m\u001b[1m}\u001b[0m\n",
              "        \u001b[1m)\u001b[0m,\n",
              "        \u001b[1;36m41.08703\u001b[0m\n",
              "    \u001b[1m)\u001b[0m\n",
              "\u001b[1m]\u001b[0m\n"
            ],
            "text/html": [
              "<pre style=\"white-space:pre;overflow-x:auto;line-height:normal;font-family:Menlo,'DejaVu Sans Mono',consolas,'Courier New',monospace\"><span style=\"font-weight: bold\">[</span>\n",
              "    <span style=\"font-weight: bold\">(</span>\n",
              "        <span style=\"color: #800080; text-decoration-color: #800080; font-weight: bold\">Document</span><span style=\"font-weight: bold\">(</span>\n",
              "            <span style=\"color: #808000; text-decoration-color: #808000\">page_content</span>=<span style=\"color: #008000; text-decoration-color: #008000\">'Apple\\'s iOS App Store announces sweeping changes in the </span>\n",
              "<span style=\"color: #008000; text-decoration-color: #008000\">EU\\nhttps://www.axios.com/2024/01/25/apple-app-store-eu-changes\\nAuthor: Ashley Gold, </span>\n",
              "<span style=\"color: #008000; text-decoration-color: #008000\">author of\\xa0Axios Pro\\n\\n\\nApple will allow alternative app stores and other new options </span>\n",
              "<span style=\"color: #008000; text-decoration-color: #008000\">for app developers in order to comply with Europe\\'s Digital Markets Act, the company said</span>\n",
              "<span style=\"color: #008000; text-decoration-color: #008000\">Thursday.\\n\\nDriving the news: Europe\\'s major tech competition law, set to go into effect</span>\n",
              "<span style=\"color: #008000; text-decoration-color: #008000\">March 7, requires Apple to loosen its strict rules requiring developers to rely on the App</span>\n",
              "<span style=\"color: #008000; text-decoration-color: #008000\">Store for distribution and payment processing.\\n\\nApple has long resisted any changes to </span>\n",
              "<span style=\"color: #008000; text-decoration-color: #008000\">its App Store rules, citing security and privacy. The company also argues its services for</span>\n",
              "<span style=\"color: #008000; text-decoration-color: #008000\">developers are best-in-class and ensure smooth user experiences free of spam or harmful </span>\n",
              "<span style=\"color: #008000; text-decoration-color: #008000\">content.\\n\\nWhy it matters: Apple is being forced to make sweeping changes to one of its </span>\n",
              "<span style=\"color: #008000; text-decoration-color: #008000\">flagship \"walled garden\" systems in what some smaller companies are seeing as a major </span>\n",
              "<span style=\"color: #008000; text-decoration-color: #008000\">win.'</span>,\n",
              "            <span style=\"color: #808000; text-decoration-color: #808000\">metadata</span>=<span style=\"font-weight: bold\">{</span><span style=\"color: #008000; text-decoration-color: #008000\">'source'</span>: <span style=\"color: #008000; text-decoration-color: #008000\">'/content/Article-edited.txt'</span><span style=\"font-weight: bold\">}</span>\n",
              "        <span style=\"font-weight: bold\">)</span>,\n",
              "        <span style=\"color: #008080; text-decoration-color: #008080; font-weight: bold\">39.76284</span>\n",
              "    <span style=\"font-weight: bold\">)</span>,\n",
              "    <span style=\"font-weight: bold\">(</span>\n",
              "        <span style=\"color: #800080; text-decoration-color: #800080; font-weight: bold\">Document</span><span style=\"font-weight: bold\">(</span>\n",
              "            <span style=\"color: #808000; text-decoration-color: #808000\">page_content</span>=<span style=\"color: #008000; text-decoration-color: #008000\">'Go deeper: The iOS changes will include notarization for iOS </span>\n",
              "<span style=\"color: #008000; text-decoration-color: #008000\">apps, authorization for marketplace developers and disclosures on alternative payments. </span>\n",
              "<span style=\"color: #008000; text-decoration-color: #008000\">Apple says in the release that if apps opt out of Apple\\'s system, the company \"has less </span>\n",
              "<span style=\"color: #008000; text-decoration-color: #008000\">ability to address other risks\" like \"scam, fraud, abuse\" or \"objectionable or harmful\" </span>\n",
              "<span style=\"color: #008000; text-decoration-color: #008000\">content.\\n\\nUsers in the EU will also see a browser choice screen in iOS 17.4 to pick a </span>\n",
              "<span style=\"color: #008000; text-decoration-color: #008000\">default browser.\\n\\nThe other side: Epic Games CEO Tim Sweeney said on X: \"Apple\\'s plan </span>\n",
              "<span style=\"color: #008000; text-decoration-color: #008000\">to thwart Europe\\'s new Digital Markets Act law is a devious new instance of Malicious </span>\n",
              "<span style=\"color: #008000; text-decoration-color: #008000\">Compliance... Epic has always supported the notion of Apple notarization and malware </span>\n",
              "<span style=\"color: #008000; text-decoration-color: #008000\">scanning for apps, but we strongly reject Apple\\'s twisting this process to undermine </span>\n",
              "<span style=\"color: #008000; text-decoration-color: #008000\">competition and continue imposing Apple taxes on transactions they\\'re not involved in.\"'</span>,\n",
              "            <span style=\"color: #808000; text-decoration-color: #808000\">metadata</span>=<span style=\"font-weight: bold\">{</span><span style=\"color: #008000; text-decoration-color: #008000\">'source'</span>: <span style=\"color: #008000; text-decoration-color: #008000\">'/content/Article-edited.txt'</span><span style=\"font-weight: bold\">}</span>\n",
              "        <span style=\"font-weight: bold\">)</span>,\n",
              "        <span style=\"color: #008080; text-decoration-color: #008080; font-weight: bold\">40.713356</span>\n",
              "    <span style=\"font-weight: bold\">)</span>,\n",
              "    <span style=\"font-weight: bold\">(</span>\n",
              "        <span style=\"color: #800080; text-decoration-color: #800080; font-weight: bold\">Document</span><span style=\"font-weight: bold\">(</span>\n",
              "            <span style=\"color: #808000; text-decoration-color: #808000\">page_content</span>=<span style=\"color: #008000; text-decoration-color: #008000\">\"What to watch: It's up to the European Commission to determine </span>\n",
              "<span style=\"color: #008000; text-decoration-color: #008000\">whether Apple's plan fully complies with the DMA. iPhone app developers face a whole new </span>\n",
              "<span style=\"color: #008000; text-decoration-color: #008000\">world of choices, and time will tell if the changes boost competition and improve </span>\n",
              "<span style=\"color: #008000; text-decoration-color: #008000\">experiences for users.\"</span>,\n",
              "            <span style=\"color: #808000; text-decoration-color: #808000\">metadata</span>=<span style=\"font-weight: bold\">{</span><span style=\"color: #008000; text-decoration-color: #008000\">'source'</span>: <span style=\"color: #008000; text-decoration-color: #008000\">'/content/Article-edited.txt'</span><span style=\"font-weight: bold\">}</span>\n",
              "        <span style=\"font-weight: bold\">)</span>,\n",
              "        <span style=\"color: #008080; text-decoration-color: #008080; font-weight: bold\">41.08703</span>\n",
              "    <span style=\"font-weight: bold\">)</span>\n",
              "<span style=\"font-weight: bold\">]</span>\n",
              "</pre>\n"
            ]
          },
          "metadata": {}
        }
      ]
    },
    {
      "cell_type": "markdown",
      "source": [
        "### Query the documents and use the LLM to reply"
      ],
      "metadata": {
        "id": "UzIGm-UPsDH8"
      }
    },
    {
      "cell_type": "code",
      "source": [
        "#Function for QnA over a Context - the context is pure string text\n",
        "def QwenQnA(question,vectorstore,hits,maxtokens,model):\n",
        "  \"\"\"\n",
        "  basic generation with Qwen2-0.5b-Instruct/ any llama.cpp loaded model\n",
        "  question -> string\n",
        "  vectorstore-> a FAISS objects\n",
        "  hits -> int, the number of results from the similarity search\n",
        "  maxtokens -> int, number of max tokens to generate\n",
        "  model -> llama-cpp-python instance // here is Qwen2-0.5b-Instruct AI\n",
        "  RETURNS output -> str, docs -> list of langchain documents from similarity search\n",
        "  \"\"\"\n",
        "  #docs_and_scores = vectorstore.similarity_search_with_score(question,k=3) #or .similarity_search_with_relevance_scores()\n",
        "  retriever = vectorstore.as_retriever(search_type=\"mmr\",search_kwargs={\"k\": hits})\n",
        "  docs = retriever.invoke(question)\n",
        "  # pack all the text from the retriever hits and remove carriage return\n",
        "  context = ''\n",
        "  for i in docs:\n",
        "    context += i.page_content\n",
        "  contesto = context.replace('\\n\\n','')\n",
        "  query = question\n",
        "  import datetime\n",
        "  start = datetime.datetime.now()\n",
        "  #create the prompt template\n",
        "  template = f\"\"\"Answer the question based only on the following context:\n",
        "\n",
        "[context]\n",
        "{contesto}\n",
        "[end of context]\n",
        "\n",
        "Question: {query}\n",
        "\n",
        "\"\"\"\n",
        "  #structure the prompt into a chat template\n",
        "  messages = [\n",
        "              {\"role\": \"system\", \"content\": \"You are a Language Model trained to answer questions based solely on the provided text.\",},\n",
        "              {\"role\": \"user\", \"content\": template},\n",
        "              ]\n",
        "  with console.status(\"Qwen-0.5b-Chat AI is working ✅✅✅ ...\",spinner=\"dots12\"):\n",
        "    output = model.create_chat_completion(\n",
        "                    messages=messages,\n",
        "                    max_tokens=maxtokens,\n",
        "                    stop=[\"</s>\",\"[/INST]\",\"/INST\",'<|eot_id|>','<|end|>'],\n",
        "                    temperature = 0.1,\n",
        "                    repeat_penalty = 1.4)\n",
        "  delta = datetime.datetime.now() - start\n",
        "  console.print(f\"[bright_green bold on black]Question: {query}\")\n",
        "  console.print(output[\"choices\"][0][\"message\"][\"content\"])\n",
        "  console.print(f\"Completed in: [bold bright_red]{delta}\")\n",
        "  return output[\"choices\"][0][\"message\"][\"content\"], docs"
      ],
      "metadata": {
        "id": "dUspnmrc5kqH"
      },
      "execution_count": 8,
      "outputs": []
    },
    {
      "cell_type": "code",
      "source": [
        "res, notetext = QwenQnA('what is a startup entrepreneurship?', vectorstore,4,500,qwen05b)"
      ],
      "metadata": {
        "colab": {
          "base_uri": "https://localhost:8080/",
          "height": 198,
          "referenced_widgets": [
            "daf0f226487d447ab88b64b8cf8dd185",
            "b02f5d0c391644d6a7534066f8cc1193"
          ]
        },
        "id": "IdKLbaWW5kns",
        "outputId": "1af4c3bf-eb09-4d73-85a3-0cea9308bf3e"
      },
      "execution_count": 9,
      "outputs": [
        {
          "output_type": "display_data",
          "data": {
            "text/plain": [
              "Output()"
            ],
            "application/vnd.jupyter.widget-view+json": {
              "version_major": 2,
              "version_minor": 0,
              "model_id": "daf0f226487d447ab88b64b8cf8dd185"
            }
          },
          "metadata": {}
        },
        {
          "output_type": "display_data",
          "data": {
            "text/plain": [],
            "text/html": [
              "<pre style=\"white-space:pre;overflow-x:auto;line-height:normal;font-family:Menlo,'DejaVu Sans Mono',consolas,'Courier New',monospace\"></pre>\n"
            ]
          },
          "metadata": {}
        },
        {
          "output_type": "display_data",
          "data": {
            "text/plain": [
              "\u001b[1;92;40mQuestion: what is a startup entrepreneurship?\u001b[0m\n"
            ],
            "text/html": [
              "<pre style=\"white-space:pre;overflow-x:auto;line-height:normal;font-family:Menlo,'DejaVu Sans Mono',consolas,'Courier New',monospace\"><span style=\"color: #00ff00; text-decoration-color: #00ff00; background-color: #000000; font-weight: bold\">Question: what is a startup entrepreneurship?</span>\n",
              "</pre>\n"
            ]
          },
          "metadata": {}
        },
        {
          "output_type": "display_data",
          "data": {
            "text/plain": [
              "A startup entrepreneur typically involves launching new and disruptive innovation in the \n",
              "form of technology-driven solutions or entirely new businesses. These ventures are often \n",
              "characterized by rapid growth potential, high risk/high reward balance between success \u001b[1m(\u001b[0min\n",
              "competitive markets\u001b[1m)\u001b[0m versus failure due to inherent risks involved with running such \n",
              "enterprises.\n",
              "\n",
              "In summary: a start-up entrepreneurship is about taking ownership for creating innovative \n",
              "products/services and building something from the ground up in an environment where \n",
              "there's significant opportunity but also carries some level of uncertainty.\n"
            ],
            "text/html": [
              "<pre style=\"white-space:pre;overflow-x:auto;line-height:normal;font-family:Menlo,'DejaVu Sans Mono',consolas,'Courier New',monospace\">A startup entrepreneur typically involves launching new and disruptive innovation in the \n",
              "form of technology-driven solutions or entirely new businesses. These ventures are often \n",
              "characterized by rapid growth potential, high risk/high reward balance between success <span style=\"font-weight: bold\">(</span>in\n",
              "competitive markets<span style=\"font-weight: bold\">)</span> versus failure due to inherent risks involved with running such \n",
              "enterprises.\n",
              "\n",
              "In summary: a start-up entrepreneurship is about taking ownership for creating innovative \n",
              "products/services and building something from the ground up in an environment where \n",
              "there's significant opportunity but also carries some level of uncertainty.\n",
              "</pre>\n"
            ]
          },
          "metadata": {}
        },
        {
          "output_type": "display_data",
          "data": {
            "text/plain": [
              "Completed in: \u001b[1;91m0:00:54\u001b[0m\u001b[1;91m.\u001b[0m\u001b[1;91m322737\u001b[0m\n"
            ],
            "text/html": [
              "<pre style=\"white-space:pre;overflow-x:auto;line-height:normal;font-family:Menlo,'DejaVu Sans Mono',consolas,'Courier New',monospace\">Completed in: <span style=\"color: #ff0000; text-decoration-color: #ff0000; font-weight: bold\">0:00:54.</span><span style=\"color: #ff0000; text-decoration-color: #ff0000; font-weight: bold\">322737</span>\n",
              "</pre>\n"
            ]
          },
          "metadata": {}
        }
      ]
    },
    {
      "cell_type": "code",
      "source": [
        "console.print(notetext)"
      ],
      "metadata": {
        "colab": {
          "base_uri": "https://localhost:8080/",
          "height": 1000
        },
        "id": "qtMQqFgoCKUf",
        "outputId": "ce2ca5a6-8b48-4c63-f55a-fd1867ae3c0e"
      },
      "execution_count": 10,
      "outputs": [
        {
          "output_type": "display_data",
          "data": {
            "text/plain": [
              "\u001b[1m[\u001b[0m\n",
              "    \u001b[1;35mDocument\u001b[0m\u001b[1m(\u001b[0m\n",
              "        \u001b[33mpage_content\u001b[0m=\u001b[32m' and challenging journey filled with both immense rewards and \u001b[0m\n",
              "\u001b[32mpotential setbacks.\\nI. What is entrepreneurship\\nThe world of business is brimming with \u001b[0m\n",
              "\u001b[32mestablished giants and innovative upstarts. But what drives the creation of these new \u001b[0m\n",
              "\u001b[32mventures? This is where the concept of entrepreneurship steps in.\\nEntrepreneurship is the\u001b[0m\n",
              "\u001b[32mprocess of identifying opportunities, turning ideas into reality, and creating new \u001b[0m\n",
              "\u001b[32mbusinesses. It’s a captivating blend of innovation, initiative, and calculated \u001b[0m\n",
              "\u001b[32mrisk-taking. Entrepreneurs are the trailblazers who:\\nSpot a gap in the market: They have \u001b[0m\n",
              "\u001b[32ma keen eye for unmet needs or problems waiting for solutions.\\nCraft unique solutions: \u001b[0m\n",
              "\u001b[32mThey translate those needs into a product, service, or business model that addresses the \u001b[0m\n",
              "\u001b[32midentified gap.\\nEmbrace calculated risks: They invest their time, resources, and effort \u001b[0m\n",
              "\u001b[32minto bringing their vision to life, understanding the potential rewards and challenges \u001b[0m\n",
              "\u001b[32mthat lie ahead.\\nBuild and manage the business: They assemble a team, secure funding, \u001b[0m\n",
              "\u001b[32mnavigate the complexities of running a successful enterprise, and ensure its growth and \u001b[0m\n",
              "\u001b[32msustainability.\\nIn essence, entrepreneurship is about taking ownership and turning ideas \u001b[0m\n",
              "\u001b[32minto action. It’s about being the architect of your own destiny and building something \u001b[0m\n",
              "\u001b[32mfrom the ground up'\u001b[0m,\n",
              "        \u001b[33mmetadata\u001b[0m=\u001b[1m{\u001b[0m\n",
              "            \u001b[32m'source'\u001b[0m: \u001b[32m'/content/What is Entrepreneurship 5 Factors Affecting Ent.txt'\u001b[0m\n",
              "        \u001b[1m}\u001b[0m\n",
              "    \u001b[1m)\u001b[0m,\n",
              "    \u001b[1;35mDocument\u001b[0m\u001b[1m(\u001b[0m\n",
              "        \u001b[33mpage_content\u001b[0m=\u001b[32m' failure in a competitive landscape.\\nFocus on Technology: Many \u001b[0m\n",
              "\u001b[32mstartups leverage technology to create innovative products or services.\\n2. Small business\u001b[0m\n",
              "\u001b[32mentrepreneurship\\nThe backbone of many communities, small business entrepreneurship \u001b[0m\n",
              "\u001b[32mcenters around establishing a local business that caters to a specific niche or geographic\u001b[0m\n",
              "\u001b[32marea. Think your friendly neighborhood bakery or a local bookstore. These ventures often \u001b[0m\n",
              "\u001b[32mprioritize:\\nStability and Sustainability: Small businesses focus on building a loyal \u001b[0m\n",
              "\u001b[32mcustomer base and providing reliable goods and services within their community.\\nCommunity\u001b[0m\n",
              "\u001b[32mFocus: Understanding and catering to the specific needs of the local market is \u001b[0m\n",
              "\u001b[32mparamount.\\nLower Risk Profile: While growth is still important, small businesses tend to \u001b[0m\n",
              "\u001b[32mprioritize stability over rapid expansion.\\n3. Corporate entrepreneurship \u001b[0m\n",
              "\u001b[32m(\u001b[0m\u001b[32mIntrapreneurship\u001b[0m\u001b[32m)\u001b[0m\u001b[32m\\nInnovation doesn’t have to happen outside established organizations. \u001b[0m\n",
              "\u001b[32mIntrapreneurship fosters a culture of innovation within existing companies. Intrapreneurs \u001b[0m\n",
              "\u001b[32mare employees who identify and develop new business ideas or products within the larger \u001b[0m\n",
              "\u001b[32mcompany structure. They might:\\nDevelop new product lines or services.\\nIdentify new \u001b[0m\n",
              "\u001b[32mmarket opportunities.\\nStreamline internal processes to improve \u001b[0m\n",
              "\u001b[32mefficiency.\\nEntrepreneurial ventures benefit from the resources and infrastructure of the\u001b[0m\n",
              "\u001b[32mestablished company, but navigating internal approval processes and overcoming'\u001b[0m,\n",
              "        \u001b[33mmetadata\u001b[0m=\u001b[1m{\u001b[0m\n",
              "            \u001b[32m'source'\u001b[0m: \u001b[32m'/content/What is Entrepreneurship 5 Factors Affecting Ent.txt'\u001b[0m\n",
              "        \u001b[1m}\u001b[0m\n",
              "    \u001b[1m)\u001b[0m,\n",
              "    \u001b[1;35mDocument\u001b[0m\u001b[1m(\u001b[0m\n",
              "        \u001b[33mpage_content\u001b[0m=\u001b[32m', and operational plan. While it’s a dynamic document that can \u001b[0m\n",
              "\u001b[32mevolve as you learn and grow, a well-crafted business plan will help you stay focused and \u001b[0m\n",
              "\u001b[32mattract potential investors.\\nAlso read: Crafting an Effective Product Launch Strategy: \u001b[0m\n",
              "\u001b[32mBest Practices and Examples\\n3. Secure Funding\\nBootstrapping: Many entrepreneurs start by\u001b[0m\n",
              "\u001b[32mbootstrapping their businesses using personal savings, loans from family and friends, or \u001b[0m\n",
              "\u001b[32mcrowdfunding platforms.\\nSeeking Investors: For ventures requiring significant capital, \u001b[0m\n",
              "\u001b[32mexploring options like angel investors or venture capital firms might be necessary. Be \u001b[0m\n",
              "\u001b[32mprepared to present a compelling pitch that highlights the potential of your business.\\n4.\u001b[0m\n",
              "\u001b[32mBuild Your Team\\nAssemble Your A-Team: Surround yourself with talented and passionate \u001b[0m\n",
              "\u001b[32mindividuals who complement your skillset. Delegate tasks effectively and foster a \u001b[0m\n",
              "\u001b[32mcollaborative environment where everyone feels valued and empowered to contribute.\\n5. \u001b[0m\n",
              "\u001b[32mChoose a Business Structure\\nSole Proprietorship, Partnership, LLC, or Corporation? The \u001b[0m\n",
              "\u001b[32mlegal structure you choose for your business can impact taxes, liabilities, and \u001b[0m\n",
              "\u001b[32mregulations. Consult with a lawyer or accountant to determine the most suitable structure \u001b[0m\n",
              "\u001b[32mfor your venture.\\n6. Obtain Necessary Licenses and Permits\\nComply with Regulations: \u001b[0m\n",
              "\u001b[32mResearch the licenses and permits'\u001b[0m,\n",
              "        \u001b[33mmetadata\u001b[0m=\u001b[1m{\u001b[0m\n",
              "            \u001b[32m'source'\u001b[0m: \u001b[32m'/content/What is Entrepreneurship 5 Factors Affecting Ent.txt'\u001b[0m\n",
              "        \u001b[1m}\u001b[0m\n",
              "    \u001b[1m)\u001b[0m,\n",
              "    \u001b[1;35mDocument\u001b[0m\u001b[1m(\u001b[0m\n",
              "        \u001b[33mpage_content\u001b[0m=\u001b[32m' navigate the complexities of running a successful enterprise, and \u001b[0m\n",
              "\u001b[32mensure its growth and sustainability.\\nIn essence, entrepreneurship is about taking \u001b[0m\n",
              "\u001b[32mownership and turning ideas into action. It’s about being the architect of your own \u001b[0m\n",
              "\u001b[32mdestiny and building something from the ground up.\\nII. Different types of \u001b[0m\n",
              "\u001b[32mentrepreneurships\\nThe entrepreneurial spirit manifests in various forms, each with its \u001b[0m\n",
              "\u001b[32munique purpose and approach.\\nLet’s delve into some of the most common types of \u001b[0m\n",
              "\u001b[32mentrepreneurship ventures:\\nThere are 4 common types of entrepreneurship\\n1. Startup \u001b[0m\n",
              "\u001b[32mentrepreneurship\\nOften associated with high-growth potential and disruptive innovation, \u001b[0m\n",
              "\u001b[32mstartup entrepreneurship involves launching a new and innovative business. Startups \u001b[0m\n",
              "\u001b[32mtypically focus on technology-driven solutions or entirely new business models. Think Uber\u001b[0m\n",
              "\u001b[32mrevolutionizing transportation or Airbnb shaking up the hospitality industry. These \u001b[0m\n",
              "\u001b[32mventures are often characterized by:\\nRapid Growth: Startups aim to scale quickly and \u001b[0m\n",
              "\u001b[32machieve a dominant market position.\\nHigh Risk, High Reward: The potential for significant\u001b[0m\n",
              "\u001b[32mreturns is balanced by the inherent risk of failure in a competitive landscape.\\nFocus on \u001b[0m\n",
              "\u001b[32mTechnology: Many startups leverage technology to create innovative products or \u001b[0m\n",
              "\u001b[32mservices.\\n2. Small business entrepreneurship\\nThe backbone of many communities, small \u001b[0m\n",
              "\u001b[32mbusiness entrepreneurship centers around establishing a local business that caters to a \u001b[0m\n",
              "\u001b[32mspecific'\u001b[0m,\n",
              "        \u001b[33mmetadata\u001b[0m=\u001b[1m{\u001b[0m\n",
              "            \u001b[32m'source'\u001b[0m: \u001b[32m'/content/What is Entrepreneurship 5 Factors Affecting Ent.txt'\u001b[0m\n",
              "        \u001b[1m}\u001b[0m\n",
              "    \u001b[1m)\u001b[0m\n",
              "\u001b[1m]\u001b[0m\n"
            ],
            "text/html": [
              "<pre style=\"white-space:pre;overflow-x:auto;line-height:normal;font-family:Menlo,'DejaVu Sans Mono',consolas,'Courier New',monospace\"><span style=\"font-weight: bold\">[</span>\n",
              "    <span style=\"color: #800080; text-decoration-color: #800080; font-weight: bold\">Document</span><span style=\"font-weight: bold\">(</span>\n",
              "        <span style=\"color: #808000; text-decoration-color: #808000\">page_content</span>=<span style=\"color: #008000; text-decoration-color: #008000\">' and challenging journey filled with both immense rewards and </span>\n",
              "<span style=\"color: #008000; text-decoration-color: #008000\">potential setbacks.\\nI. What is entrepreneurship\\nThe world of business is brimming with </span>\n",
              "<span style=\"color: #008000; text-decoration-color: #008000\">established giants and innovative upstarts. But what drives the creation of these new </span>\n",
              "<span style=\"color: #008000; text-decoration-color: #008000\">ventures? This is where the concept of entrepreneurship steps in.\\nEntrepreneurship is the</span>\n",
              "<span style=\"color: #008000; text-decoration-color: #008000\">process of identifying opportunities, turning ideas into reality, and creating new </span>\n",
              "<span style=\"color: #008000; text-decoration-color: #008000\">businesses. It’s a captivating blend of innovation, initiative, and calculated </span>\n",
              "<span style=\"color: #008000; text-decoration-color: #008000\">risk-taking. Entrepreneurs are the trailblazers who:\\nSpot a gap in the market: They have </span>\n",
              "<span style=\"color: #008000; text-decoration-color: #008000\">a keen eye for unmet needs or problems waiting for solutions.\\nCraft unique solutions: </span>\n",
              "<span style=\"color: #008000; text-decoration-color: #008000\">They translate those needs into a product, service, or business model that addresses the </span>\n",
              "<span style=\"color: #008000; text-decoration-color: #008000\">identified gap.\\nEmbrace calculated risks: They invest their time, resources, and effort </span>\n",
              "<span style=\"color: #008000; text-decoration-color: #008000\">into bringing their vision to life, understanding the potential rewards and challenges </span>\n",
              "<span style=\"color: #008000; text-decoration-color: #008000\">that lie ahead.\\nBuild and manage the business: They assemble a team, secure funding, </span>\n",
              "<span style=\"color: #008000; text-decoration-color: #008000\">navigate the complexities of running a successful enterprise, and ensure its growth and </span>\n",
              "<span style=\"color: #008000; text-decoration-color: #008000\">sustainability.\\nIn essence, entrepreneurship is about taking ownership and turning ideas </span>\n",
              "<span style=\"color: #008000; text-decoration-color: #008000\">into action. It’s about being the architect of your own destiny and building something </span>\n",
              "<span style=\"color: #008000; text-decoration-color: #008000\">from the ground up'</span>,\n",
              "        <span style=\"color: #808000; text-decoration-color: #808000\">metadata</span>=<span style=\"font-weight: bold\">{</span>\n",
              "            <span style=\"color: #008000; text-decoration-color: #008000\">'source'</span>: <span style=\"color: #008000; text-decoration-color: #008000\">'/content/What is Entrepreneurship 5 Factors Affecting Ent.txt'</span>\n",
              "        <span style=\"font-weight: bold\">}</span>\n",
              "    <span style=\"font-weight: bold\">)</span>,\n",
              "    <span style=\"color: #800080; text-decoration-color: #800080; font-weight: bold\">Document</span><span style=\"font-weight: bold\">(</span>\n",
              "        <span style=\"color: #808000; text-decoration-color: #808000\">page_content</span>=<span style=\"color: #008000; text-decoration-color: #008000\">' failure in a competitive landscape.\\nFocus on Technology: Many </span>\n",
              "<span style=\"color: #008000; text-decoration-color: #008000\">startups leverage technology to create innovative products or services.\\n2. Small business</span>\n",
              "<span style=\"color: #008000; text-decoration-color: #008000\">entrepreneurship\\nThe backbone of many communities, small business entrepreneurship </span>\n",
              "<span style=\"color: #008000; text-decoration-color: #008000\">centers around establishing a local business that caters to a specific niche or geographic</span>\n",
              "<span style=\"color: #008000; text-decoration-color: #008000\">area. Think your friendly neighborhood bakery or a local bookstore. These ventures often </span>\n",
              "<span style=\"color: #008000; text-decoration-color: #008000\">prioritize:\\nStability and Sustainability: Small businesses focus on building a loyal </span>\n",
              "<span style=\"color: #008000; text-decoration-color: #008000\">customer base and providing reliable goods and services within their community.\\nCommunity</span>\n",
              "<span style=\"color: #008000; text-decoration-color: #008000\">Focus: Understanding and catering to the specific needs of the local market is </span>\n",
              "<span style=\"color: #008000; text-decoration-color: #008000\">paramount.\\nLower Risk Profile: While growth is still important, small businesses tend to </span>\n",
              "<span style=\"color: #008000; text-decoration-color: #008000\">prioritize stability over rapid expansion.\\n3. Corporate entrepreneurship </span>\n",
              "<span style=\"color: #008000; text-decoration-color: #008000\">(Intrapreneurship)\\nInnovation doesn’t have to happen outside established organizations. </span>\n",
              "<span style=\"color: #008000; text-decoration-color: #008000\">Intrapreneurship fosters a culture of innovation within existing companies. Intrapreneurs </span>\n",
              "<span style=\"color: #008000; text-decoration-color: #008000\">are employees who identify and develop new business ideas or products within the larger </span>\n",
              "<span style=\"color: #008000; text-decoration-color: #008000\">company structure. They might:\\nDevelop new product lines or services.\\nIdentify new </span>\n",
              "<span style=\"color: #008000; text-decoration-color: #008000\">market opportunities.\\nStreamline internal processes to improve </span>\n",
              "<span style=\"color: #008000; text-decoration-color: #008000\">efficiency.\\nEntrepreneurial ventures benefit from the resources and infrastructure of the</span>\n",
              "<span style=\"color: #008000; text-decoration-color: #008000\">established company, but navigating internal approval processes and overcoming'</span>,\n",
              "        <span style=\"color: #808000; text-decoration-color: #808000\">metadata</span>=<span style=\"font-weight: bold\">{</span>\n",
              "            <span style=\"color: #008000; text-decoration-color: #008000\">'source'</span>: <span style=\"color: #008000; text-decoration-color: #008000\">'/content/What is Entrepreneurship 5 Factors Affecting Ent.txt'</span>\n",
              "        <span style=\"font-weight: bold\">}</span>\n",
              "    <span style=\"font-weight: bold\">)</span>,\n",
              "    <span style=\"color: #800080; text-decoration-color: #800080; font-weight: bold\">Document</span><span style=\"font-weight: bold\">(</span>\n",
              "        <span style=\"color: #808000; text-decoration-color: #808000\">page_content</span>=<span style=\"color: #008000; text-decoration-color: #008000\">', and operational plan. While it’s a dynamic document that can </span>\n",
              "<span style=\"color: #008000; text-decoration-color: #008000\">evolve as you learn and grow, a well-crafted business plan will help you stay focused and </span>\n",
              "<span style=\"color: #008000; text-decoration-color: #008000\">attract potential investors.\\nAlso read: Crafting an Effective Product Launch Strategy: </span>\n",
              "<span style=\"color: #008000; text-decoration-color: #008000\">Best Practices and Examples\\n3. Secure Funding\\nBootstrapping: Many entrepreneurs start by</span>\n",
              "<span style=\"color: #008000; text-decoration-color: #008000\">bootstrapping their businesses using personal savings, loans from family and friends, or </span>\n",
              "<span style=\"color: #008000; text-decoration-color: #008000\">crowdfunding platforms.\\nSeeking Investors: For ventures requiring significant capital, </span>\n",
              "<span style=\"color: #008000; text-decoration-color: #008000\">exploring options like angel investors or venture capital firms might be necessary. Be </span>\n",
              "<span style=\"color: #008000; text-decoration-color: #008000\">prepared to present a compelling pitch that highlights the potential of your business.\\n4.</span>\n",
              "<span style=\"color: #008000; text-decoration-color: #008000\">Build Your Team\\nAssemble Your A-Team: Surround yourself with talented and passionate </span>\n",
              "<span style=\"color: #008000; text-decoration-color: #008000\">individuals who complement your skillset. Delegate tasks effectively and foster a </span>\n",
              "<span style=\"color: #008000; text-decoration-color: #008000\">collaborative environment where everyone feels valued and empowered to contribute.\\n5. </span>\n",
              "<span style=\"color: #008000; text-decoration-color: #008000\">Choose a Business Structure\\nSole Proprietorship, Partnership, LLC, or Corporation? The </span>\n",
              "<span style=\"color: #008000; text-decoration-color: #008000\">legal structure you choose for your business can impact taxes, liabilities, and </span>\n",
              "<span style=\"color: #008000; text-decoration-color: #008000\">regulations. Consult with a lawyer or accountant to determine the most suitable structure </span>\n",
              "<span style=\"color: #008000; text-decoration-color: #008000\">for your venture.\\n6. Obtain Necessary Licenses and Permits\\nComply with Regulations: </span>\n",
              "<span style=\"color: #008000; text-decoration-color: #008000\">Research the licenses and permits'</span>,\n",
              "        <span style=\"color: #808000; text-decoration-color: #808000\">metadata</span>=<span style=\"font-weight: bold\">{</span>\n",
              "            <span style=\"color: #008000; text-decoration-color: #008000\">'source'</span>: <span style=\"color: #008000; text-decoration-color: #008000\">'/content/What is Entrepreneurship 5 Factors Affecting Ent.txt'</span>\n",
              "        <span style=\"font-weight: bold\">}</span>\n",
              "    <span style=\"font-weight: bold\">)</span>,\n",
              "    <span style=\"color: #800080; text-decoration-color: #800080; font-weight: bold\">Document</span><span style=\"font-weight: bold\">(</span>\n",
              "        <span style=\"color: #808000; text-decoration-color: #808000\">page_content</span>=<span style=\"color: #008000; text-decoration-color: #008000\">' navigate the complexities of running a successful enterprise, and </span>\n",
              "<span style=\"color: #008000; text-decoration-color: #008000\">ensure its growth and sustainability.\\nIn essence, entrepreneurship is about taking </span>\n",
              "<span style=\"color: #008000; text-decoration-color: #008000\">ownership and turning ideas into action. It’s about being the architect of your own </span>\n",
              "<span style=\"color: #008000; text-decoration-color: #008000\">destiny and building something from the ground up.\\nII. Different types of </span>\n",
              "<span style=\"color: #008000; text-decoration-color: #008000\">entrepreneurships\\nThe entrepreneurial spirit manifests in various forms, each with its </span>\n",
              "<span style=\"color: #008000; text-decoration-color: #008000\">unique purpose and approach.\\nLet’s delve into some of the most common types of </span>\n",
              "<span style=\"color: #008000; text-decoration-color: #008000\">entrepreneurship ventures:\\nThere are 4 common types of entrepreneurship\\n1. Startup </span>\n",
              "<span style=\"color: #008000; text-decoration-color: #008000\">entrepreneurship\\nOften associated with high-growth potential and disruptive innovation, </span>\n",
              "<span style=\"color: #008000; text-decoration-color: #008000\">startup entrepreneurship involves launching a new and innovative business. Startups </span>\n",
              "<span style=\"color: #008000; text-decoration-color: #008000\">typically focus on technology-driven solutions or entirely new business models. Think Uber</span>\n",
              "<span style=\"color: #008000; text-decoration-color: #008000\">revolutionizing transportation or Airbnb shaking up the hospitality industry. These </span>\n",
              "<span style=\"color: #008000; text-decoration-color: #008000\">ventures are often characterized by:\\nRapid Growth: Startups aim to scale quickly and </span>\n",
              "<span style=\"color: #008000; text-decoration-color: #008000\">achieve a dominant market position.\\nHigh Risk, High Reward: The potential for significant</span>\n",
              "<span style=\"color: #008000; text-decoration-color: #008000\">returns is balanced by the inherent risk of failure in a competitive landscape.\\nFocus on </span>\n",
              "<span style=\"color: #008000; text-decoration-color: #008000\">Technology: Many startups leverage technology to create innovative products or </span>\n",
              "<span style=\"color: #008000; text-decoration-color: #008000\">services.\\n2. Small business entrepreneurship\\nThe backbone of many communities, small </span>\n",
              "<span style=\"color: #008000; text-decoration-color: #008000\">business entrepreneurship centers around establishing a local business that caters to a </span>\n",
              "<span style=\"color: #008000; text-decoration-color: #008000\">specific'</span>,\n",
              "        <span style=\"color: #808000; text-decoration-color: #808000\">metadata</span>=<span style=\"font-weight: bold\">{</span>\n",
              "            <span style=\"color: #008000; text-decoration-color: #008000\">'source'</span>: <span style=\"color: #008000; text-decoration-color: #008000\">'/content/What is Entrepreneurship 5 Factors Affecting Ent.txt'</span>\n",
              "        <span style=\"font-weight: bold\">}</span>\n",
              "    <span style=\"font-weight: bold\">)</span>\n",
              "<span style=\"font-weight: bold\">]</span>\n",
              "</pre>\n"
            ]
          },
          "metadata": {}
        }
      ]
    },
    {
      "cell_type": "code",
      "source": [
        "res, notetext = QwenQnA('what is the Small business entrepreneurship?', vectorstore,4,500,qwen05b)"
      ],
      "metadata": {
        "colab": {
          "base_uri": "https://localhost:8080/",
          "height": 148,
          "referenced_widgets": [
            "4aa3082ec7ec4df6a5c3313b81887cfa",
            "6d6b2f1584db4acab1bd785342acfad8"
          ]
        },
        "id": "BAdyewUjwXVn",
        "outputId": "53995bad-a6b8-4774-ccc2-ed1f1b366fbc"
      },
      "execution_count": 11,
      "outputs": [
        {
          "output_type": "display_data",
          "data": {
            "text/plain": [
              "Output()"
            ],
            "application/vnd.jupyter.widget-view+json": {
              "version_major": 2,
              "version_minor": 0,
              "model_id": "4aa3082ec7ec4df6a5c3313b81887cfa"
            }
          },
          "metadata": {}
        },
        {
          "output_type": "display_data",
          "data": {
            "text/plain": [],
            "text/html": [
              "<pre style=\"white-space:pre;overflow-x:auto;line-height:normal;font-family:Menlo,'DejaVu Sans Mono',consolas,'Courier New',monospace\"></pre>\n"
            ]
          },
          "metadata": {}
        },
        {
          "output_type": "display_data",
          "data": {
            "text/plain": [
              "\u001b[1;92;40mQuestion: what is the Small business entrepreneurship?\u001b[0m\n"
            ],
            "text/html": [
              "<pre style=\"white-space:pre;overflow-x:auto;line-height:normal;font-family:Menlo,'DejaVu Sans Mono',consolas,'Courier New',monospace\"><span style=\"color: #00ff00; text-decoration-color: #00ff00; background-color: #000000; font-weight: bold\">Question: what is the Small business entrepreneurship?</span>\n",
              "</pre>\n"
            ]
          },
          "metadata": {}
        },
        {
          "output_type": "display_data",
          "data": {
            "text/plain": [
              "Small Business Entrepreneurship centers on establishing local small enterprises that cater\n",
              "to specific niche or geographic area, focusing primarily on stability \u001b[1m(\u001b[0mstability\u001b[1m)\u001b[0m & \n",
              "sustainability \u001b[1m(\u001b[0msustainability\u001b[1m)\u001b[0m, community focus \u001b[1m(\u001b[0mcommunity\u001b[1m)\u001b[0m, lower risk profile \u001b[1m(\u001b[0mrisk\u001b[1m)\u001b[0m. \n",
              "It also involves understanding and catering to a particular market. The venture often \n",
              "prioritizes the establishment of stable businesses with loyal customers base within their \n",
              "locality for long-term growth prospects\n"
            ],
            "text/html": [
              "<pre style=\"white-space:pre;overflow-x:auto;line-height:normal;font-family:Menlo,'DejaVu Sans Mono',consolas,'Courier New',monospace\">Small Business Entrepreneurship centers on establishing local small enterprises that cater\n",
              "to specific niche or geographic area, focusing primarily on stability <span style=\"font-weight: bold\">(</span>stability<span style=\"font-weight: bold\">)</span> &amp; \n",
              "sustainability <span style=\"font-weight: bold\">(</span>sustainability<span style=\"font-weight: bold\">)</span>, community focus <span style=\"font-weight: bold\">(</span>community<span style=\"font-weight: bold\">)</span>, lower risk profile <span style=\"font-weight: bold\">(</span>risk<span style=\"font-weight: bold\">)</span>. \n",
              "It also involves understanding and catering to a particular market. The venture often \n",
              "prioritizes the establishment of stable businesses with loyal customers base within their \n",
              "locality for long-term growth prospects\n",
              "</pre>\n"
            ]
          },
          "metadata": {}
        },
        {
          "output_type": "display_data",
          "data": {
            "text/plain": [
              "Completed in: \u001b[1;91m0:00:45\u001b[0m\u001b[1;91m.\u001b[0m\u001b[1;91m735451\u001b[0m\n"
            ],
            "text/html": [
              "<pre style=\"white-space:pre;overflow-x:auto;line-height:normal;font-family:Menlo,'DejaVu Sans Mono',consolas,'Courier New',monospace\">Completed in: <span style=\"color: #ff0000; text-decoration-color: #ff0000; font-weight: bold\">0:00:45.</span><span style=\"color: #ff0000; text-decoration-color: #ff0000; font-weight: bold\">735451</span>\n",
              "</pre>\n"
            ]
          },
          "metadata": {}
        }
      ]
    },
    {
      "cell_type": "code",
      "source": [
        "console.print(notetext)"
      ],
      "metadata": {
        "colab": {
          "base_uri": "https://localhost:8080/",
          "height": 1000
        },
        "id": "yJQgjcS1wXNu",
        "outputId": "7d1750fb-4682-4611-c3dc-e98c90e97f10"
      },
      "execution_count": 12,
      "outputs": [
        {
          "output_type": "display_data",
          "data": {
            "text/plain": [
              "\u001b[1m[\u001b[0m\n",
              "    \u001b[1;35mDocument\u001b[0m\u001b[1m(\u001b[0m\n",
              "        \u001b[33mpage_content\u001b[0m=\u001b[32m' failure in a competitive landscape.\\nFocus on Technology: Many \u001b[0m\n",
              "\u001b[32mstartups leverage technology to create innovative products or services.\\n2. Small business\u001b[0m\n",
              "\u001b[32mentrepreneurship\\nThe backbone of many communities, small business entrepreneurship \u001b[0m\n",
              "\u001b[32mcenters around establishing a local business that caters to a specific niche or geographic\u001b[0m\n",
              "\u001b[32marea. Think your friendly neighborhood bakery or a local bookstore. These ventures often \u001b[0m\n",
              "\u001b[32mprioritize:\\nStability and Sustainability: Small businesses focus on building a loyal \u001b[0m\n",
              "\u001b[32mcustomer base and providing reliable goods and services within their community.\\nCommunity\u001b[0m\n",
              "\u001b[32mFocus: Understanding and catering to the specific needs of the local market is \u001b[0m\n",
              "\u001b[32mparamount.\\nLower Risk Profile: While growth is still important, small businesses tend to \u001b[0m\n",
              "\u001b[32mprioritize stability over rapid expansion.\\n3. Corporate entrepreneurship \u001b[0m\n",
              "\u001b[32m(\u001b[0m\u001b[32mIntrapreneurship\u001b[0m\u001b[32m)\u001b[0m\u001b[32m\\nInnovation doesn’t have to happen outside established organizations. \u001b[0m\n",
              "\u001b[32mIntrapreneurship fosters a culture of innovation within existing companies. Intrapreneurs \u001b[0m\n",
              "\u001b[32mare employees who identify and develop new business ideas or products within the larger \u001b[0m\n",
              "\u001b[32mcompany structure. They might:\\nDevelop new product lines or services.\\nIdentify new \u001b[0m\n",
              "\u001b[32mmarket opportunities.\\nStreamline internal processes to improve \u001b[0m\n",
              "\u001b[32mefficiency.\\nEntrepreneurial ventures benefit from the resources and infrastructure of the\u001b[0m\n",
              "\u001b[32mestablished company, but navigating internal approval processes and overcoming'\u001b[0m,\n",
              "        \u001b[33mmetadata\u001b[0m=\u001b[1m{\u001b[0m\n",
              "            \u001b[32m'source'\u001b[0m: \u001b[32m'/content/What is Entrepreneurship 5 Factors Affecting Ent.txt'\u001b[0m\n",
              "        \u001b[1m}\u001b[0m\n",
              "    \u001b[1m)\u001b[0m,\n",
              "    \u001b[1;35mDocument\u001b[0m\u001b[1m(\u001b[0m\n",
              "        \u001b[33mpage_content\u001b[0m=\u001b[32m'title: What is Entrepreneurship - 5 Factors Affecting \u001b[0m\n",
              "\u001b[32mEntrepreneurship\\xa0\\nauthor: Lynsey PT from Adamo Software | Predict | Jun, 2024 | \u001b[0m\n",
              "\u001b[32mMedium\\nurl: \u001b[0m\n",
              "\u001b[32mhttps://medium.com/predict/what-is-entrepreneurship-5-factors-affecting-entrepreneurship-4\u001b[0m\n",
              "\u001b[32maadad3f161e\\n\\n\\nWhat is Entrepreneurship — 5 Factors Affecting Entrepreneurship\\nEver \u001b[0m\n",
              "\u001b[32mdreamt of turning your idea into a reality? Explore the world of entrepreneurship! This \u001b[0m\n",
              "\u001b[32mguide dives into what it means to be an entrepreneur.\\nHave you ever dreamt of being your \u001b[0m\n",
              "\u001b[32mown boss, building something from the ground up, and making a positive impact on the \u001b[0m\n",
              "\u001b[32mworld? If so, then entrepreneurship might be the path for you! But what exactly is \u001b[0m\n",
              "\u001b[32mentrepreneurship?\\nEntrepreneurship is the process of identifying opportunities, creating \u001b[0m\n",
              "\u001b[32mnew businesses, and taking calculated risks to bring ideas to life. It’s a dynamic and \u001b[0m\n",
              "\u001b[32mchallenging journey filled with both immense rewards and potential setbacks.\\nI. What is \u001b[0m\n",
              "\u001b[32mentrepreneurship\\nThe world of business is brimming with established giants and innovative\u001b[0m\n",
              "\u001b[32mupstarts. But what drives the creation of these new ventures? This is where the concept'\u001b[0m,\n",
              "        \u001b[33mmetadata\u001b[0m=\u001b[1m{\u001b[0m\n",
              "            \u001b[32m'source'\u001b[0m: \u001b[32m'/content/What is Entrepreneurship 5 Factors Affecting Ent.txt'\u001b[0m\n",
              "        \u001b[1m}\u001b[0m\n",
              "    \u001b[1m)\u001b[0m,\n",
              "    \u001b[1;35mDocument\u001b[0m\u001b[1m(\u001b[0m\n",
              "        \u001b[33mpage_content\u001b[0m=\u001b[32m', and operational plan. While it’s a dynamic document that can \u001b[0m\n",
              "\u001b[32mevolve as you learn and grow, a well-crafted business plan will help you stay focused and \u001b[0m\n",
              "\u001b[32mattract potential investors.\\nAlso read: Crafting an Effective Product Launch Strategy: \u001b[0m\n",
              "\u001b[32mBest Practices and Examples\\n3. Secure Funding\\nBootstrapping: Many entrepreneurs start by\u001b[0m\n",
              "\u001b[32mbootstrapping their businesses using personal savings, loans from family and friends, or \u001b[0m\n",
              "\u001b[32mcrowdfunding platforms.\\nSeeking Investors: For ventures requiring significant capital, \u001b[0m\n",
              "\u001b[32mexploring options like angel investors or venture capital firms might be necessary. Be \u001b[0m\n",
              "\u001b[32mprepared to present a compelling pitch that highlights the potential of your business.\\n4.\u001b[0m\n",
              "\u001b[32mBuild Your Team\\nAssemble Your A-Team: Surround yourself with talented and passionate \u001b[0m\n",
              "\u001b[32mindividuals who complement your skillset. Delegate tasks effectively and foster a \u001b[0m\n",
              "\u001b[32mcollaborative environment where everyone feels valued and empowered to contribute.\\n5. \u001b[0m\n",
              "\u001b[32mChoose a Business Structure\\nSole Proprietorship, Partnership, LLC, or Corporation? The \u001b[0m\n",
              "\u001b[32mlegal structure you choose for your business can impact taxes, liabilities, and \u001b[0m\n",
              "\u001b[32mregulations. Consult with a lawyer or accountant to determine the most suitable structure \u001b[0m\n",
              "\u001b[32mfor your venture.\\n6. Obtain Necessary Licenses and Permits\\nComply with Regulations: \u001b[0m\n",
              "\u001b[32mResearch the licenses and permits'\u001b[0m,\n",
              "        \u001b[33mmetadata\u001b[0m=\u001b[1m{\u001b[0m\n",
              "            \u001b[32m'source'\u001b[0m: \u001b[32m'/content/What is Entrepreneurship 5 Factors Affecting Ent.txt'\u001b[0m\n",
              "        \u001b[1m}\u001b[0m\n",
              "    \u001b[1m)\u001b[0m,\n",
              "    \u001b[1;35mDocument\u001b[0m\u001b[1m(\u001b[0m\n",
              "        \u001b[33mpage_content\u001b[0m=\u001b[32m' might:\\nDevelop new product lines or services.\\nIdentify new market\u001b[0m\n",
              "\u001b[32mopportunities.\\nStreamline internal processes to improve efficiency.\\nEntrepreneurial \u001b[0m\n",
              "\u001b[32mventures benefit from the resources and infrastructure of the established company, but \u001b[0m\n",
              "\u001b[32mnavigating internal approval processes and overcoming resistance to change can be \u001b[0m\n",
              "\u001b[32mchallenging.\\n4. Social entrepreneurship\\nEntrepreneurship can also be a powerful tool for\u001b[0m\n",
              "\u001b[32mpositive social impact. Social entrepreneurship focuses on creating businesses that \u001b[0m\n",
              "\u001b[32maddress social or environmental problems. These ventures aim to generate both financial \u001b[0m\n",
              "\u001b[32mand social returns, striving for:\\nSocial Impact: The core mission is to create a positive\u001b[0m\n",
              "\u001b[32mimpact on a social or environmental issue, such as poverty, education, or \u001b[0m\n",
              "\u001b[32msustainability.\\nSustainable Business Model: Social enterprises need to be financially \u001b[0m\n",
              "\u001b[32mviable to ensure long-term impact.\\nCommunity Focus: Social entrepreneurs often work \u001b[0m\n",
              "\u001b[32mcollaboratively with communities to develop solutions that address their specific \u001b[0m\n",
              "\u001b[32mneeds.\\nWhether you’re passionate about disrupting an industry, building a local haven, or\u001b[0m\n",
              "\u001b[32mcreating positive social change, there’s a type of entrepreneurship that aligns with your \u001b[0m\n",
              "\u001b[32mvision.\\nIII. Why entrepreneurship important\\nEntrepreneurship isn’t just about individual\u001b[0m\n",
              "\u001b[32mjourneys and building successful businesses. It plays a crucial role in shaping the \u001b[0m\n",
              "\u001b[32meconomic and social landscape around'\u001b[0m,\n",
              "        \u001b[33mmetadata\u001b[0m=\u001b[1m{\u001b[0m\n",
              "            \u001b[32m'source'\u001b[0m: \u001b[32m'/content/What is Entrepreneurship 5 Factors Affecting Ent.txt'\u001b[0m\n",
              "        \u001b[1m}\u001b[0m\n",
              "    \u001b[1m)\u001b[0m\n",
              "\u001b[1m]\u001b[0m\n"
            ],
            "text/html": [
              "<pre style=\"white-space:pre;overflow-x:auto;line-height:normal;font-family:Menlo,'DejaVu Sans Mono',consolas,'Courier New',monospace\"><span style=\"font-weight: bold\">[</span>\n",
              "    <span style=\"color: #800080; text-decoration-color: #800080; font-weight: bold\">Document</span><span style=\"font-weight: bold\">(</span>\n",
              "        <span style=\"color: #808000; text-decoration-color: #808000\">page_content</span>=<span style=\"color: #008000; text-decoration-color: #008000\">' failure in a competitive landscape.\\nFocus on Technology: Many </span>\n",
              "<span style=\"color: #008000; text-decoration-color: #008000\">startups leverage technology to create innovative products or services.\\n2. Small business</span>\n",
              "<span style=\"color: #008000; text-decoration-color: #008000\">entrepreneurship\\nThe backbone of many communities, small business entrepreneurship </span>\n",
              "<span style=\"color: #008000; text-decoration-color: #008000\">centers around establishing a local business that caters to a specific niche or geographic</span>\n",
              "<span style=\"color: #008000; text-decoration-color: #008000\">area. Think your friendly neighborhood bakery or a local bookstore. These ventures often </span>\n",
              "<span style=\"color: #008000; text-decoration-color: #008000\">prioritize:\\nStability and Sustainability: Small businesses focus on building a loyal </span>\n",
              "<span style=\"color: #008000; text-decoration-color: #008000\">customer base and providing reliable goods and services within their community.\\nCommunity</span>\n",
              "<span style=\"color: #008000; text-decoration-color: #008000\">Focus: Understanding and catering to the specific needs of the local market is </span>\n",
              "<span style=\"color: #008000; text-decoration-color: #008000\">paramount.\\nLower Risk Profile: While growth is still important, small businesses tend to </span>\n",
              "<span style=\"color: #008000; text-decoration-color: #008000\">prioritize stability over rapid expansion.\\n3. Corporate entrepreneurship </span>\n",
              "<span style=\"color: #008000; text-decoration-color: #008000\">(Intrapreneurship)\\nInnovation doesn’t have to happen outside established organizations. </span>\n",
              "<span style=\"color: #008000; text-decoration-color: #008000\">Intrapreneurship fosters a culture of innovation within existing companies. Intrapreneurs </span>\n",
              "<span style=\"color: #008000; text-decoration-color: #008000\">are employees who identify and develop new business ideas or products within the larger </span>\n",
              "<span style=\"color: #008000; text-decoration-color: #008000\">company structure. They might:\\nDevelop new product lines or services.\\nIdentify new </span>\n",
              "<span style=\"color: #008000; text-decoration-color: #008000\">market opportunities.\\nStreamline internal processes to improve </span>\n",
              "<span style=\"color: #008000; text-decoration-color: #008000\">efficiency.\\nEntrepreneurial ventures benefit from the resources and infrastructure of the</span>\n",
              "<span style=\"color: #008000; text-decoration-color: #008000\">established company, but navigating internal approval processes and overcoming'</span>,\n",
              "        <span style=\"color: #808000; text-decoration-color: #808000\">metadata</span>=<span style=\"font-weight: bold\">{</span>\n",
              "            <span style=\"color: #008000; text-decoration-color: #008000\">'source'</span>: <span style=\"color: #008000; text-decoration-color: #008000\">'/content/What is Entrepreneurship 5 Factors Affecting Ent.txt'</span>\n",
              "        <span style=\"font-weight: bold\">}</span>\n",
              "    <span style=\"font-weight: bold\">)</span>,\n",
              "    <span style=\"color: #800080; text-decoration-color: #800080; font-weight: bold\">Document</span><span style=\"font-weight: bold\">(</span>\n",
              "        <span style=\"color: #808000; text-decoration-color: #808000\">page_content</span>=<span style=\"color: #008000; text-decoration-color: #008000\">'title: What is Entrepreneurship - 5 Factors Affecting </span>\n",
              "<span style=\"color: #008000; text-decoration-color: #008000\">Entrepreneurship\\xa0\\nauthor: Lynsey PT from Adamo Software | Predict | Jun, 2024 | </span>\n",
              "<span style=\"color: #008000; text-decoration-color: #008000\">Medium\\nurl: </span>\n",
              "<span style=\"color: #008000; text-decoration-color: #008000\">https://medium.com/predict/what-is-entrepreneurship-5-factors-affecting-entrepreneurship-4</span>\n",
              "<span style=\"color: #008000; text-decoration-color: #008000\">aadad3f161e\\n\\n\\nWhat is Entrepreneurship — 5 Factors Affecting Entrepreneurship\\nEver </span>\n",
              "<span style=\"color: #008000; text-decoration-color: #008000\">dreamt of turning your idea into a reality? Explore the world of entrepreneurship! This </span>\n",
              "<span style=\"color: #008000; text-decoration-color: #008000\">guide dives into what it means to be an entrepreneur.\\nHave you ever dreamt of being your </span>\n",
              "<span style=\"color: #008000; text-decoration-color: #008000\">own boss, building something from the ground up, and making a positive impact on the </span>\n",
              "<span style=\"color: #008000; text-decoration-color: #008000\">world? If so, then entrepreneurship might be the path for you! But what exactly is </span>\n",
              "<span style=\"color: #008000; text-decoration-color: #008000\">entrepreneurship?\\nEntrepreneurship is the process of identifying opportunities, creating </span>\n",
              "<span style=\"color: #008000; text-decoration-color: #008000\">new businesses, and taking calculated risks to bring ideas to life. It’s a dynamic and </span>\n",
              "<span style=\"color: #008000; text-decoration-color: #008000\">challenging journey filled with both immense rewards and potential setbacks.\\nI. What is </span>\n",
              "<span style=\"color: #008000; text-decoration-color: #008000\">entrepreneurship\\nThe world of business is brimming with established giants and innovative</span>\n",
              "<span style=\"color: #008000; text-decoration-color: #008000\">upstarts. But what drives the creation of these new ventures? This is where the concept'</span>,\n",
              "        <span style=\"color: #808000; text-decoration-color: #808000\">metadata</span>=<span style=\"font-weight: bold\">{</span>\n",
              "            <span style=\"color: #008000; text-decoration-color: #008000\">'source'</span>: <span style=\"color: #008000; text-decoration-color: #008000\">'/content/What is Entrepreneurship 5 Factors Affecting Ent.txt'</span>\n",
              "        <span style=\"font-weight: bold\">}</span>\n",
              "    <span style=\"font-weight: bold\">)</span>,\n",
              "    <span style=\"color: #800080; text-decoration-color: #800080; font-weight: bold\">Document</span><span style=\"font-weight: bold\">(</span>\n",
              "        <span style=\"color: #808000; text-decoration-color: #808000\">page_content</span>=<span style=\"color: #008000; text-decoration-color: #008000\">', and operational plan. While it’s a dynamic document that can </span>\n",
              "<span style=\"color: #008000; text-decoration-color: #008000\">evolve as you learn and grow, a well-crafted business plan will help you stay focused and </span>\n",
              "<span style=\"color: #008000; text-decoration-color: #008000\">attract potential investors.\\nAlso read: Crafting an Effective Product Launch Strategy: </span>\n",
              "<span style=\"color: #008000; text-decoration-color: #008000\">Best Practices and Examples\\n3. Secure Funding\\nBootstrapping: Many entrepreneurs start by</span>\n",
              "<span style=\"color: #008000; text-decoration-color: #008000\">bootstrapping their businesses using personal savings, loans from family and friends, or </span>\n",
              "<span style=\"color: #008000; text-decoration-color: #008000\">crowdfunding platforms.\\nSeeking Investors: For ventures requiring significant capital, </span>\n",
              "<span style=\"color: #008000; text-decoration-color: #008000\">exploring options like angel investors or venture capital firms might be necessary. Be </span>\n",
              "<span style=\"color: #008000; text-decoration-color: #008000\">prepared to present a compelling pitch that highlights the potential of your business.\\n4.</span>\n",
              "<span style=\"color: #008000; text-decoration-color: #008000\">Build Your Team\\nAssemble Your A-Team: Surround yourself with talented and passionate </span>\n",
              "<span style=\"color: #008000; text-decoration-color: #008000\">individuals who complement your skillset. Delegate tasks effectively and foster a </span>\n",
              "<span style=\"color: #008000; text-decoration-color: #008000\">collaborative environment where everyone feels valued and empowered to contribute.\\n5. </span>\n",
              "<span style=\"color: #008000; text-decoration-color: #008000\">Choose a Business Structure\\nSole Proprietorship, Partnership, LLC, or Corporation? The </span>\n",
              "<span style=\"color: #008000; text-decoration-color: #008000\">legal structure you choose for your business can impact taxes, liabilities, and </span>\n",
              "<span style=\"color: #008000; text-decoration-color: #008000\">regulations. Consult with a lawyer or accountant to determine the most suitable structure </span>\n",
              "<span style=\"color: #008000; text-decoration-color: #008000\">for your venture.\\n6. Obtain Necessary Licenses and Permits\\nComply with Regulations: </span>\n",
              "<span style=\"color: #008000; text-decoration-color: #008000\">Research the licenses and permits'</span>,\n",
              "        <span style=\"color: #808000; text-decoration-color: #808000\">metadata</span>=<span style=\"font-weight: bold\">{</span>\n",
              "            <span style=\"color: #008000; text-decoration-color: #008000\">'source'</span>: <span style=\"color: #008000; text-decoration-color: #008000\">'/content/What is Entrepreneurship 5 Factors Affecting Ent.txt'</span>\n",
              "        <span style=\"font-weight: bold\">}</span>\n",
              "    <span style=\"font-weight: bold\">)</span>,\n",
              "    <span style=\"color: #800080; text-decoration-color: #800080; font-weight: bold\">Document</span><span style=\"font-weight: bold\">(</span>\n",
              "        <span style=\"color: #808000; text-decoration-color: #808000\">page_content</span>=<span style=\"color: #008000; text-decoration-color: #008000\">' might:\\nDevelop new product lines or services.\\nIdentify new market</span>\n",
              "<span style=\"color: #008000; text-decoration-color: #008000\">opportunities.\\nStreamline internal processes to improve efficiency.\\nEntrepreneurial </span>\n",
              "<span style=\"color: #008000; text-decoration-color: #008000\">ventures benefit from the resources and infrastructure of the established company, but </span>\n",
              "<span style=\"color: #008000; text-decoration-color: #008000\">navigating internal approval processes and overcoming resistance to change can be </span>\n",
              "<span style=\"color: #008000; text-decoration-color: #008000\">challenging.\\n4. Social entrepreneurship\\nEntrepreneurship can also be a powerful tool for</span>\n",
              "<span style=\"color: #008000; text-decoration-color: #008000\">positive social impact. Social entrepreneurship focuses on creating businesses that </span>\n",
              "<span style=\"color: #008000; text-decoration-color: #008000\">address social or environmental problems. These ventures aim to generate both financial </span>\n",
              "<span style=\"color: #008000; text-decoration-color: #008000\">and social returns, striving for:\\nSocial Impact: The core mission is to create a positive</span>\n",
              "<span style=\"color: #008000; text-decoration-color: #008000\">impact on a social or environmental issue, such as poverty, education, or </span>\n",
              "<span style=\"color: #008000; text-decoration-color: #008000\">sustainability.\\nSustainable Business Model: Social enterprises need to be financially </span>\n",
              "<span style=\"color: #008000; text-decoration-color: #008000\">viable to ensure long-term impact.\\nCommunity Focus: Social entrepreneurs often work </span>\n",
              "<span style=\"color: #008000; text-decoration-color: #008000\">collaboratively with communities to develop solutions that address their specific </span>\n",
              "<span style=\"color: #008000; text-decoration-color: #008000\">needs.\\nWhether you’re passionate about disrupting an industry, building a local haven, or</span>\n",
              "<span style=\"color: #008000; text-decoration-color: #008000\">creating positive social change, there’s a type of entrepreneurship that aligns with your </span>\n",
              "<span style=\"color: #008000; text-decoration-color: #008000\">vision.\\nIII. Why entrepreneurship important\\nEntrepreneurship isn’t just about individual</span>\n",
              "<span style=\"color: #008000; text-decoration-color: #008000\">journeys and building successful businesses. It plays a crucial role in shaping the </span>\n",
              "<span style=\"color: #008000; text-decoration-color: #008000\">economic and social landscape around'</span>,\n",
              "        <span style=\"color: #808000; text-decoration-color: #808000\">metadata</span>=<span style=\"font-weight: bold\">{</span>\n",
              "            <span style=\"color: #008000; text-decoration-color: #008000\">'source'</span>: <span style=\"color: #008000; text-decoration-color: #008000\">'/content/What is Entrepreneurship 5 Factors Affecting Ent.txt'</span>\n",
              "        <span style=\"font-weight: bold\">}</span>\n",
              "    <span style=\"font-weight: bold\">)</span>\n",
              "<span style=\"font-weight: bold\">]</span>\n",
              "</pre>\n"
            ]
          },
          "metadata": {}
        }
      ]
    },
    {
      "cell_type": "code",
      "source": [
        "res, notetext = QwenQnA('what to do to get started with entrepreneurship?', vectorstore,5,500,qwen05b)"
      ],
      "metadata": {
        "colab": {
          "base_uri": "https://localhost:8080/",
          "height": 296,
          "referenced_widgets": [
            "f91344233fd3435ab1359dfeb2b5143a",
            "669b6315922b402391e7c519c22307f2"
          ]
        },
        "id": "FN3eWDvEB_Z3",
        "outputId": "20998f0c-a7df-46c5-a14d-0321dca9e18e"
      },
      "execution_count": 29,
      "outputs": [
        {
          "output_type": "display_data",
          "data": {
            "text/plain": [
              "Output()"
            ],
            "application/vnd.jupyter.widget-view+json": {
              "version_major": 2,
              "version_minor": 0,
              "model_id": "f91344233fd3435ab1359dfeb2b5143a"
            }
          },
          "metadata": {}
        },
        {
          "output_type": "display_data",
          "data": {
            "text/plain": [
              "\u001b[1;92;40mQuestion: what to do to get started with entrepreneurship?\u001b[0m\n"
            ],
            "text/html": [
              "<pre style=\"white-space:pre;overflow-x:auto;line-height:normal;font-family:Menlo,'DejaVu Sans Mono',consolas,'Courier New',monospace\"><span style=\"color: #00ff00; text-decoration-color: #00ff00; background-color: #000000; font-weight: bold\">Question: what to do to get started with entrepreneurship?</span>\n",
              "</pre>\n"
            ]
          },
          "metadata": {}
        },
        {
          "output_type": "display_data",
          "data": {
            "text/plain": [
              "To start getting into entrepreneurial ventures:\n",
              "\n",
              "\u001b[1;36m1\u001b[0m. Validate your idea - Market research helps understand if there's an opportunity in this\n",
              "market.\n",
              "\u001b[1;36m2\u001b[0m. Secure funding – Bootstrapping involves using personal savings, loans from family and \n",
              "friends or crowdfunding platforms for startups.\n",
              "\n",
              "\u001b[1;36m3\u001b[0m. Build a team: Assemble talented individuals who complement the skills of entrepreneurs \n",
              "to create innovative products/services that can drive economic growth.\n",
              "\n",
              "\u001b[1;36m4\u001b[0m. Choose your business structure - Sole proprietorship is often preferred as it allows \n",
              "you control over all aspects while keeping taxes low.\n",
              "\u001b[1;36m5\u001b[0m. Secure funding – Angel investors, venture capitalists or crowdfunding platforms are \n",
              "available for startups seeking significant capital investment and support from the \n",
              "community of entrepreneurs who share similar goals to yours.\n"
            ],
            "text/html": [
              "<pre style=\"white-space:pre;overflow-x:auto;line-height:normal;font-family:Menlo,'DejaVu Sans Mono',consolas,'Courier New',monospace\">To start getting into entrepreneurial ventures:\n",
              "\n",
              "<span style=\"color: #008080; text-decoration-color: #008080; font-weight: bold\">1</span>. Validate your idea - Market research helps understand if there's an opportunity in this\n",
              "market.\n",
              "<span style=\"color: #008080; text-decoration-color: #008080; font-weight: bold\">2</span>. Secure funding – Bootstrapping involves using personal savings, loans from family and \n",
              "friends or crowdfunding platforms for startups.\n",
              "\n",
              "<span style=\"color: #008080; text-decoration-color: #008080; font-weight: bold\">3</span>. Build a team: Assemble talented individuals who complement the skills of entrepreneurs \n",
              "to create innovative products/services that can drive economic growth.\n",
              "\n",
              "<span style=\"color: #008080; text-decoration-color: #008080; font-weight: bold\">4</span>. Choose your business structure - Sole proprietorship is often preferred as it allows \n",
              "you control over all aspects while keeping taxes low.\n",
              "<span style=\"color: #008080; text-decoration-color: #008080; font-weight: bold\">5</span>. Secure funding – Angel investors, venture capitalists or crowdfunding platforms are \n",
              "available for startups seeking significant capital investment and support from the \n",
              "community of entrepreneurs who share similar goals to yours.\n",
              "</pre>\n"
            ]
          },
          "metadata": {}
        },
        {
          "output_type": "display_data",
          "data": {
            "text/plain": [
              "Completed in: \u001b[1;91m0:00:44\u001b[0m\u001b[1;91m.\u001b[0m\u001b[1;91m952537\u001b[0m\n"
            ],
            "text/html": [
              "<pre style=\"white-space:pre;overflow-x:auto;line-height:normal;font-family:Menlo,'DejaVu Sans Mono',consolas,'Courier New',monospace\">Completed in: <span style=\"color: #ff0000; text-decoration-color: #ff0000; font-weight: bold\">0:00:44.</span><span style=\"color: #ff0000; text-decoration-color: #ff0000; font-weight: bold\">952537</span>\n",
              "</pre>\n"
            ]
          },
          "metadata": {}
        },
        {
          "output_type": "display_data",
          "data": {
            "text/plain": [],
            "text/html": [
              "<pre style=\"white-space:pre;overflow-x:auto;line-height:normal;font-family:Menlo,'DejaVu Sans Mono',consolas,'Courier New',monospace\"></pre>\n"
            ]
          },
          "metadata": {}
        }
      ]
    },
    {
      "cell_type": "code",
      "source": [
        "console.print(notetext)"
      ],
      "metadata": {
        "id": "lva1kdAq5kk8"
      },
      "execution_count": null,
      "outputs": []
    },
    {
      "cell_type": "code",
      "source": [],
      "metadata": {
        "id": "cggCW-qD5kil"
      },
      "execution_count": null,
      "outputs": []
    }
  ]
}